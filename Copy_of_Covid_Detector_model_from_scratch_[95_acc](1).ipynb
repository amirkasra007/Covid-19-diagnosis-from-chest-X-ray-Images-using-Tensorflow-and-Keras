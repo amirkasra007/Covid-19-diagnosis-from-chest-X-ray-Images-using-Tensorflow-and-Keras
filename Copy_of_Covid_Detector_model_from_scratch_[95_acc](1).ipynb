{
  "nbformat": 4,
  "nbformat_minor": 0,
  "metadata": {
    "colab": {
      "name": "Copy of Covid Detector model from scratch [95%acc].ipynb",
      "provenance": []
    },
    "kernelspec": {
      "name": "python3",
      "display_name": "Python 3"
    },
    "language_info": {
      "name": "python"
    },
    "accelerator": "GPU"
  },
  "cells": [
    {
      "cell_type": "code",
      "metadata": {
        "colab": {
          "resources": {
            "http://localhost:8080/nbextensions/google.colab/files.js": {
              "data": "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",
              "ok": true,
              "headers": [
                [
                  "content-type",
                  "application/javascript"
                ]
              ],
              "status": 200,
              "status_text": "OK"
            }
          },
          "base_uri": "https://localhost:8080/",
          "height": 93
        },
        "id": "oWjq5HPzXCdc",
        "outputId": "e78a6007-ad10-4212-aa0e-f795e3669ee1"
      },
      "source": [
        "from google.colab import files\n",
        "files.upload()"
      ],
      "execution_count": null,
      "outputs": [
        {
          "output_type": "display_data",
          "data": {
            "text/html": [
              "\n",
              "     <input type=\"file\" id=\"files-5c1428dc-2fa4-4b6b-822c-85b5e4eb172f\" name=\"files[]\" multiple disabled\n",
              "        style=\"border:none\" />\n",
              "     <output id=\"result-5c1428dc-2fa4-4b6b-822c-85b5e4eb172f\">\n",
              "      Upload widget is only available when the cell has been executed in the\n",
              "      current browser session. Please rerun this cell to enable.\n",
              "      </output>\n",
              "      <script src=\"/nbextensions/google.colab/files.js\"></script> "
            ],
            "text/plain": [
              "<IPython.core.display.HTML object>"
            ]
          },
          "metadata": {
            "tags": []
          }
        },
        {
          "output_type": "stream",
          "text": [
            "Saving kaggle.json to kaggle.json\n"
          ],
          "name": "stdout"
        },
        {
          "output_type": "execute_result",
          "data": {
            "text/plain": [
              "{'kaggle.json': b'{\"username\":\"amirkasraamini\",\"key\":\"e9d3dc0c7d67fe619449aba85338297b\"}'}"
            ]
          },
          "metadata": {
            "tags": []
          },
          "execution_count": 1
        }
      ]
    },
    {
      "cell_type": "code",
      "metadata": {
        "id": "a-jJHrIUW7qn"
      },
      "source": [
        "!pip install -q kaggle"
      ],
      "execution_count": null,
      "outputs": []
    },
    {
      "cell_type": "code",
      "metadata": {
        "id": "h9THC4hCW-z4"
      },
      "source": [
        "!mkdir ~/.kaggle\n",
        "!touch ~/.kaggle/kaggle.json\n",
        "\n",
        "api_token = {\"username\":\"amirkasraamini\",\"key\":\"e9d3dc0c7d67fe619449aba85338297b\"}\n",
        "\n",
        "import json\n",
        "\n",
        "with open('/root/.kaggle/kaggle.json', 'w') as file:\n",
        "    json.dump(api_token, file)\n",
        "\n",
        "!chmod 600 ~/.kaggle/kaggle.json"
      ],
      "execution_count": null,
      "outputs": []
    },
    {
      "cell_type": "code",
      "metadata": {
        "colab": {
          "base_uri": "https://localhost:8080/"
        },
        "id": "cRxvQJGIWqKs",
        "outputId": "856ee6cc-1e74-48c8-914d-3e0dc5a42129"
      },
      "source": [
        "!kaggle datasets download -d prashant268/chest-xray-covid19-pneumonia #3-class dataset"
      ],
      "execution_count": null,
      "outputs": [
        {
          "output_type": "stream",
          "text": [
            "Downloading chest-xray-covid19-pneumonia.zip to /content\n",
            "100% 2.05G/2.06G [00:22<00:00, 28.7MB/s]\n",
            "100% 2.06G/2.06G [00:22<00:00, 98.2MB/s]\n"
          ],
          "name": "stdout"
        }
      ]
    },
    {
      "cell_type": "code",
      "metadata": {
        "id": "leuQeXYcXs3x"
      },
      "source": [
        "mkdir destination1"
      ],
      "execution_count": null,
      "outputs": []
    },
    {
      "cell_type": "code",
      "metadata": {
        "id": "EFUGtA_XXzU0"
      },
      "source": [
        "!unzip /content/chest-xray-covid19-pneumonia.zip -d destination1"
      ],
      "execution_count": null,
      "outputs": []
    },
    {
      "cell_type": "code",
      "metadata": {
        "id": "dG5gtLED-KtZ"
      },
      "source": [
        "!unzip /content/nih224folderwise-data.zip -d destination2"
      ],
      "execution_count": null,
      "outputs": []
    },
    {
      "cell_type": "code",
      "metadata": {
        "colab": {
          "base_uri": "https://localhost:8080/"
        },
        "id": "6_6KSam5hB6R",
        "outputId": "0fa6ffc8-c659-4e27-bbd5-046a6f970775"
      },
      "source": [
        "import os\n",
        "import numpy as np\n",
        "import shutil\n",
        "import random\n",
        "\n",
        "\n",
        "make_dir ='/content/destination1/Data'\n",
        "root_dir = '/content/destination1/Data/train'\n",
        "classes_dir = ['COVID19','NORMAL','PNEUMONIA']\n",
        "\n",
        "val_ratio = 0.05\n",
        "\n",
        "for cls in classes_dir:\n",
        "\n",
        "  os.makedirs(make_dir +'/val/' + cls)\n",
        "\n",
        "\n",
        "    # Creating partitions of the data after shuffeling\n",
        "  src = root_dir + '/'+ cls # Folder to copy images from\n",
        "\n",
        "  allFileNames = os.listdir(src)\n",
        "  np.random.shuffle(allFileNames)\n",
        "  train_FileNames, val_FileNames = np.split(np.array(allFileNames),\n",
        "                                                              [int(len(allFileNames)* (1 - val_ratio))])\n",
        "\n",
        "\n",
        "  train_FileNames = [src+'/'+ name for name in train_FileNames.tolist()]\n",
        "  val_FileNames = [src+'/' + name for name in val_FileNames.tolist()]\n",
        "\n",
        "  print('Total images: ', len(allFileNames))\n",
        "  print('Training: ', len(train_FileNames))\n",
        "  print('Validation: ', len(val_FileNames))\n",
        "\n",
        "  # moving images\n",
        "\n",
        "  for name in val_FileNames:\n",
        "    shutil.move(name, make_dir +'/val/' + cls)\n"
      ],
      "execution_count": null,
      "outputs": [
        {
          "output_type": "stream",
          "text": [
            "Total images:  460\n",
            "Training:  437\n",
            "Validation:  23\n",
            "Total images:  1266\n",
            "Training:  1202\n",
            "Validation:  64\n",
            "Total images:  3418\n",
            "Training:  3247\n",
            "Validation:  171\n"
          ],
          "name": "stdout"
        }
      ]
    },
    {
      "cell_type": "code",
      "metadata": {
        "id": "vJU6giniYKZ-"
      },
      "source": [
        "import tensorflow as tf\n",
        "import keras,os\n",
        "from keras.models import Sequential\n",
        "from keras.layers import Dense, Conv2D, MaxPool2D , Flatten\n",
        "from keras.preprocessing.image import ImageDataGenerator\n",
        "import numpy as np"
      ],
      "execution_count": null,
      "outputs": []
    },
    {
      "cell_type": "code",
      "metadata": {
        "colab": {
          "base_uri": "https://localhost:8080/"
        },
        "id": "vUvOWIsIUhJu",
        "outputId": "6ddec4b3-6b8a-4653-e541-748b77959753"
      },
      "source": [
        "#train\n",
        "train_datagen = ImageDataGenerator()\n",
        "training_set = train_datagen.flow_from_directory('/content/destination1/Data/train',\n",
        "                                                 target_size = (224, 224), class_mode='categorical', batch_size=32\n",
        "                                                )"
      ],
      "execution_count": null,
      "outputs": [
        {
          "output_type": "stream",
          "text": [
            "Found 4886 images belonging to 3 classes.\n"
          ],
          "name": "stdout"
        }
      ]
    },
    {
      "cell_type": "code",
      "metadata": {
        "colab": {
          "base_uri": "https://localhost:8080/"
        },
        "id": "6Qif0SM1j9v6",
        "outputId": "38063e79-5740-4158-ba54-737922b608fa"
      },
      "source": [
        "#test\n",
        "test_datagen = ImageDataGenerator()\n",
        "test_set = test_datagen.flow_from_directory('/content/destination1/Data/val',\n",
        "                                                 target_size = (224, 224), class_mode='categorical', batch_size=8\n",
        "                                                )"
      ],
      "execution_count": null,
      "outputs": [
        {
          "output_type": "stream",
          "text": [
            "Found 258 images belonging to 3 classes.\n"
          ],
          "name": "stdout"
        }
      ]
    },
    {
      "cell_type": "code",
      "metadata": {
        "colab": {
          "base_uri": "https://localhost:8080/"
        },
        "id": "FWBDXOjAUhOq",
        "outputId": "16b9ff3e-b915-4b85-deee-f67a87844470"
      },
      "source": [
        "#validation\n",
        "val_datagen = ImageDataGenerator()\n",
        "val_set = val_datagen.flow_from_directory('/content/destination1/Data/test',\n",
        "                                            target_size = (224, 224), class_mode='categorical', batch_size=32\n",
        "                                           )"
      ],
      "execution_count": null,
      "outputs": [
        {
          "output_type": "stream",
          "text": [
            "Found 1288 images belonging to 3 classes.\n"
          ],
          "name": "stdout"
        }
      ]
    },
    {
      "cell_type": "code",
      "metadata": {
        "id": "6tWhvhfPUhUc"
      },
      "source": [
        "model = Sequential()\n",
        "\n",
        "model.add(Conv2D(input_shape=(224,224,3),filters=64,kernel_size=(3,3),padding=\"same\", activation=\"relu\"))\n",
        "\n",
        "model.add(Conv2D(filters=64,kernel_size=(3,3),padding=\"same\", activation=\"relu\"))\n",
        "\n",
        "model.add(MaxPool2D(pool_size=(2,2),strides=(2,2)))\n",
        "\n",
        "\n",
        "model.add(Conv2D(filters=128, kernel_size=(3,3), padding=\"same\", activation=\"relu\"))\n",
        "\n",
        "model.add(Conv2D(filters=128, kernel_size=(3,3), padding=\"same\", activation=\"relu\"))\n",
        "\n",
        "model.add(MaxPool2D(pool_size=(2,2),strides=(2,2)))\n",
        "\n",
        "\n",
        "model.add(Conv2D(filters=256, kernel_size=(3,3), padding=\"same\", activation=\"relu\"))\n",
        "\n",
        "model.add(Conv2D(filters=256, kernel_size=(3,3), padding=\"same\", activation=\"relu\"))\n",
        "\n",
        "model.add(MaxPool2D(pool_size=(2,2),strides=(2,2)))\n",
        "\n",
        "\n",
        "model.add(Conv2D(filters=512, kernel_size=(3,3), padding=\"same\", activation=\"relu\"))\n",
        "\n",
        "model.add(Conv2D(filters=512, kernel_size=(3,3), padding=\"same\", activation=\"relu\"))\n",
        "\n",
        "model.add(MaxPool2D(pool_size=(2,2),strides=(2,2)))\n"
      ],
      "execution_count": null,
      "outputs": []
    },
    {
      "cell_type": "code",
      "metadata": {
        "id": "i12Ia3AxZdwB"
      },
      "source": [
        "model.add(Flatten())\n",
        "model.add(Dense(units=512,activation=\"relu\"))\n",
        "model.add(Dense(units=1024,activation=\"relu\"))\n",
        "model.add(Dense(units=3, activation=\"softmax\"))"
      ],
      "execution_count": null,
      "outputs": []
    },
    {
      "cell_type": "code",
      "metadata": {
        "id": "jLOiyWz_Zlm5"
      },
      "source": [
        "from keras.optimizers import Adam\n",
        "opt = Adam(learning_rate=0.001)"
      ],
      "execution_count": null,
      "outputs": []
    },
    {
      "cell_type": "code",
      "metadata": {
        "id": "-9HhMoIRZxzc"
      },
      "source": [
        "model.compile(optimizer=opt, loss=keras.losses.categorical_crossentropy, metrics=['accuracy'])"
      ],
      "execution_count": null,
      "outputs": []
    },
    {
      "cell_type": "code",
      "metadata": {
        "colab": {
          "base_uri": "https://localhost:8080/"
        },
        "id": "_FgXqLXiZ0IK",
        "outputId": "bdd2f539-5252-46da-95f0-3a98089e4446"
      },
      "source": [
        "model.summary()"
      ],
      "execution_count": null,
      "outputs": [
        {
          "output_type": "stream",
          "text": [
            "Model: \"sequential\"\n",
            "_________________________________________________________________\n",
            "Layer (type)                 Output Shape              Param #   \n",
            "=================================================================\n",
            "conv2d (Conv2D)              (None, 224, 224, 64)      1792      \n",
            "_________________________________________________________________\n",
            "conv2d_1 (Conv2D)            (None, 224, 224, 64)      36928     \n",
            "_________________________________________________________________\n",
            "max_pooling2d (MaxPooling2D) (None, 112, 112, 64)      0         \n",
            "_________________________________________________________________\n",
            "conv2d_2 (Conv2D)            (None, 112, 112, 128)     73856     \n",
            "_________________________________________________________________\n",
            "conv2d_3 (Conv2D)            (None, 112, 112, 128)     147584    \n",
            "_________________________________________________________________\n",
            "max_pooling2d_1 (MaxPooling2 (None, 56, 56, 128)       0         \n",
            "_________________________________________________________________\n",
            "conv2d_4 (Conv2D)            (None, 56, 56, 256)       295168    \n",
            "_________________________________________________________________\n",
            "conv2d_5 (Conv2D)            (None, 56, 56, 256)       590080    \n",
            "_________________________________________________________________\n",
            "max_pooling2d_2 (MaxPooling2 (None, 28, 28, 256)       0         \n",
            "_________________________________________________________________\n",
            "conv2d_6 (Conv2D)            (None, 28, 28, 512)       1180160   \n",
            "_________________________________________________________________\n",
            "conv2d_7 (Conv2D)            (None, 28, 28, 512)       2359808   \n",
            "_________________________________________________________________\n",
            "max_pooling2d_3 (MaxPooling2 (None, 14, 14, 512)       0         \n",
            "_________________________________________________________________\n",
            "flatten (Flatten)            (None, 100352)            0         \n",
            "_________________________________________________________________\n",
            "dense (Dense)                (None, 512)               51380736  \n",
            "_________________________________________________________________\n",
            "dense_1 (Dense)              (None, 1024)              525312    \n",
            "_________________________________________________________________\n",
            "dense_2 (Dense)              (None, 3)                 3075      \n",
            "=================================================================\n",
            "Total params: 56,594,499\n",
            "Trainable params: 56,594,499\n",
            "Non-trainable params: 0\n",
            "_________________________________________________________________\n"
          ],
          "name": "stdout"
        }
      ]
    },
    {
      "cell_type": "code",
      "metadata": {
        "id": "qGyayqk1Z0Qo"
      },
      "source": [
        "from keras.callbacks import ModelCheckpoint, EarlyStopping"
      ],
      "execution_count": null,
      "outputs": []
    },
    {
      "cell_type": "code",
      "metadata": {
        "id": "Vc8pyB1CKsxh"
      },
      "source": [
        "filepath = '/content/best_Model_weights.h5'\n",
        "checkpoint = ModelCheckpoint(filepath, monitor='val_accuracy', verbose=1, save_best_only=True, mode='max')\n",
        "# early = EarlyStopping(monitor='val_accuracy', min_delta=0, patience=20, mode='auto')"
      ],
      "execution_count": null,
      "outputs": []
    },
    {
      "cell_type": "code",
      "metadata": {
        "id": "WIji_UmqaVvc",
        "colab": {
          "base_uri": "https://localhost:8080/"
        },
        "outputId": "e5bb7b7e-5170-4ced-83c4-58cf3385bb33"
      },
      "source": [
        "results = model.fit(x=training_set, validation_data= val_set, epochs=25,callbacks=checkpoint)"
      ],
      "execution_count": null,
      "outputs": [
        {
          "output_type": "stream",
          "text": [
            "Epoch 1/25\n",
            "153/153 [==============================] - 202s 980ms/step - loss: 18.3527 - accuracy: 0.6500 - val_loss: 0.2694 - val_accuracy: 0.8960\n",
            "\n",
            "Epoch 00001: val_accuracy improved from -inf to 0.89596, saving model to /content/best_Model_weights.h5\n",
            "Epoch 2/25\n",
            "153/153 [==============================] - 146s 955ms/step - loss: 0.2479 - accuracy: 0.9151 - val_loss: 0.2204 - val_accuracy: 0.9161\n",
            "\n",
            "Epoch 00002: val_accuracy improved from 0.89596 to 0.91615, saving model to /content/best_Model_weights.h5\n",
            "Epoch 3/25\n",
            "153/153 [==============================] - 142s 928ms/step - loss: 0.1814 - accuracy: 0.9379 - val_loss: 0.2183 - val_accuracy: 0.9332\n",
            "\n",
            "Epoch 00003: val_accuracy improved from 0.91615 to 0.93323, saving model to /content/best_Model_weights.h5\n",
            "Epoch 4/25\n",
            "153/153 [==============================] - 141s 920ms/step - loss: 0.1730 - accuracy: 0.9385 - val_loss: 0.1724 - val_accuracy: 0.9317\n",
            "\n",
            "Epoch 00004: val_accuracy did not improve from 0.93323\n",
            "Epoch 5/25\n",
            "153/153 [==============================] - 141s 924ms/step - loss: 0.1301 - accuracy: 0.9551 - val_loss: 0.1498 - val_accuracy: 0.9495\n",
            "\n",
            "Epoch 00005: val_accuracy improved from 0.93323 to 0.94953, saving model to /content/best_Model_weights.h5\n",
            "Epoch 6/25\n",
            "153/153 [==============================] - 141s 921ms/step - loss: 0.1312 - accuracy: 0.9531 - val_loss: 0.1588 - val_accuracy: 0.9488\n",
            "\n",
            "Epoch 00006: val_accuracy did not improve from 0.94953\n",
            "Epoch 7/25\n",
            "153/153 [==============================] - 141s 921ms/step - loss: 0.1771 - accuracy: 0.9474 - val_loss: 0.2032 - val_accuracy: 0.9301\n",
            "\n",
            "Epoch 00007: val_accuracy did not improve from 0.94953\n",
            "Epoch 8/25\n",
            "153/153 [==============================] - 142s 929ms/step - loss: 0.1176 - accuracy: 0.9591 - val_loss: 0.2808 - val_accuracy: 0.9425\n",
            "\n",
            "Epoch 00008: val_accuracy did not improve from 0.94953\n",
            "Epoch 9/25\n",
            "153/153 [==============================] - 141s 922ms/step - loss: 0.1147 - accuracy: 0.9606 - val_loss: 0.2489 - val_accuracy: 0.9371\n",
            "\n",
            "Epoch 00009: val_accuracy did not improve from 0.94953\n",
            "Epoch 10/25\n",
            "153/153 [==============================] - 141s 921ms/step - loss: 0.0690 - accuracy: 0.9743 - val_loss: 0.1725 - val_accuracy: 0.9410\n",
            "\n",
            "Epoch 00010: val_accuracy did not improve from 0.94953\n",
            "Epoch 11/25\n",
            "153/153 [==============================] - 143s 935ms/step - loss: 0.0532 - accuracy: 0.9798 - val_loss: 0.1819 - val_accuracy: 0.9464\n",
            "\n",
            "Epoch 00011: val_accuracy did not improve from 0.94953\n",
            "Epoch 12/25\n",
            "153/153 [==============================] - 141s 922ms/step - loss: 0.0710 - accuracy: 0.9767 - val_loss: 0.2495 - val_accuracy: 0.9379\n",
            "\n",
            "Epoch 00012: val_accuracy did not improve from 0.94953\n",
            "Epoch 13/25\n",
            "153/153 [==============================] - 143s 932ms/step - loss: 0.0505 - accuracy: 0.9805 - val_loss: 0.2890 - val_accuracy: 0.9387\n",
            "\n",
            "Epoch 00013: val_accuracy did not improve from 0.94953\n",
            "Epoch 14/25\n",
            "153/153 [==============================] - 141s 925ms/step - loss: 0.0592 - accuracy: 0.9793 - val_loss: 0.3366 - val_accuracy: 0.9092\n",
            "\n",
            "Epoch 00014: val_accuracy did not improve from 0.94953\n",
            "Epoch 15/25\n",
            "153/153 [==============================] - 142s 925ms/step - loss: 0.2134 - accuracy: 0.9259 - val_loss: 0.1476 - val_accuracy: 0.9480\n",
            "\n",
            "Epoch 00015: val_accuracy did not improve from 0.94953\n",
            "Epoch 16/25\n",
            "153/153 [==============================] - 156s 1s/step - loss: 0.0641 - accuracy: 0.9803 - val_loss: 0.2553 - val_accuracy: 0.9402\n",
            "\n",
            "Epoch 00016: val_accuracy did not improve from 0.94953\n",
            "Epoch 17/25\n",
            "153/153 [==============================] - 141s 924ms/step - loss: 0.0362 - accuracy: 0.9881 - val_loss: 0.2637 - val_accuracy: 0.9418\n",
            "\n",
            "Epoch 00017: val_accuracy did not improve from 0.94953\n",
            "Epoch 18/25\n",
            "153/153 [==============================] - 142s 924ms/step - loss: 0.1423 - accuracy: 0.9639 - val_loss: 0.4576 - val_accuracy: 0.9371\n",
            "\n",
            "Epoch 00018: val_accuracy did not improve from 0.94953\n",
            "Epoch 19/25\n",
            "153/153 [==============================] - 141s 921ms/step - loss: 0.0624 - accuracy: 0.9810 - val_loss: 0.3107 - val_accuracy: 0.9332\n",
            "\n",
            "Epoch 00019: val_accuracy did not improve from 0.94953\n",
            "Epoch 20/25\n",
            "153/153 [==============================] - 141s 923ms/step - loss: 0.0261 - accuracy: 0.9898 - val_loss: 0.3508 - val_accuracy: 0.9387\n",
            "\n",
            "Epoch 00020: val_accuracy did not improve from 0.94953\n",
            "Epoch 21/25\n",
            "153/153 [==============================] - 141s 923ms/step - loss: 0.0254 - accuracy: 0.9921 - val_loss: 0.3745 - val_accuracy: 0.9387\n",
            "\n",
            "Epoch 00021: val_accuracy did not improve from 0.94953\n",
            "Epoch 22/25\n",
            "153/153 [==============================] - 142s 925ms/step - loss: 0.0176 - accuracy: 0.9959 - val_loss: 0.3061 - val_accuracy: 0.9457\n",
            "\n",
            "Epoch 00022: val_accuracy did not improve from 0.94953\n",
            "Epoch 23/25\n",
            "153/153 [==============================] - 141s 922ms/step - loss: 0.0472 - accuracy: 0.9853 - val_loss: 0.3391 - val_accuracy: 0.9262\n",
            "\n",
            "Epoch 00023: val_accuracy did not improve from 0.94953\n",
            "Epoch 24/25\n",
            "153/153 [==============================] - 142s 928ms/step - loss: 0.0680 - accuracy: 0.9785 - val_loss: 0.2797 - val_accuracy: 0.9457\n",
            "\n",
            "Epoch 00024: val_accuracy did not improve from 0.94953\n",
            "Epoch 25/25\n",
            "153/153 [==============================] - 141s 922ms/step - loss: 0.0169 - accuracy: 0.9935 - val_loss: 0.3167 - val_accuracy: 0.9394\n",
            "\n",
            "Epoch 00025: val_accuracy did not improve from 0.94953\n"
          ],
          "name": "stdout"
        }
      ]
    },
    {
      "cell_type": "markdown",
      "metadata": {
        "id": "_wiP9A1iqFbg"
      },
      "source": [
        "# Model accuracy and loss graphs"
      ]
    },
    {
      "cell_type": "code",
      "metadata": {
        "colab": {
          "base_uri": "https://localhost:8080/",
          "height": 295
        },
        "id": "FXjansc9lmoY",
        "outputId": "fb4e8a1c-1205-47dc-e74d-33167d5dfbce"
      },
      "source": [
        "import matplotlib.pyplot as plt\n",
        "plt.plot(results.history[\"accuracy\"])\n",
        "plt.plot(results.history['val_accuracy'])\n",
        "plt.plot(results.history['loss'])\n",
        "plt.plot(results.history['val_loss'])\n",
        "plt.title(\"model accuracy\")\n",
        "plt.ylabel(\"Accuracy\")\n",
        "plt.xlabel(\"Epoch\")\n",
        "plt.legend([\"Accuracy\",\"Validation Accuracy\",\"loss\",\"Validation Loss\"])\n",
        "plt.show()"
      ],
      "execution_count": null,
      "outputs": [
        {
          "output_type": "display_data",
          "data": {
            "image/png": "[encoded data removed]",
            "text/plain": [
              "<Figure size 432x288 with 1 Axes>"
            ]
          },
          "metadata": {
            "tags": [],
            "needs_background": "light"
          }
        }
      ]
    },
    {
      "cell_type": "markdown",
      "metadata": {
        "id": "sE-N9DqBpGXN"
      },
      "source": [
        "# Graphical confusion matrix\n"
      ]
    },
    {
      "cell_type": "code",
      "metadata": {
        "id": "hjZqR73DlJP1"
      },
      "source": [
        "import matplotlib.pyplot as plt\n",
        "import itertools  "
      ],
      "execution_count": null,
      "outputs": []
    },
    {
      "cell_type": "code",
      "metadata": {
        "id": "igtb2mMjlJvY"
      },
      "source": [
        "def plot_confusion_matrix(cm, classes, normalize=True, title='Confusion matrix', cmap=plt.cm.Blues):\n",
        "\n",
        "    \"\"\"\n",
        "\n",
        "    This function prints and plots the confusion matrix.\n",
        "\n",
        "    Normalization can be applied by setting `normalize=True`.\n",
        "\n",
        "    \"\"\"\n",
        "\n",
        "    plt.figure(figsize=(10,10))\n",
        "\n",
        "\n",
        "    plt.imshow(cm, interpolation='nearest', cmap=cmap)\n",
        "\n",
        "    plt.title(title)\n",
        "\n",
        "    plt.colorbar()\n",
        "\n",
        "\n",
        "    tick_marks = np.arange(len(classes))\n",
        "\n",
        "    plt.xticks(tick_marks, classes, rotation=45)\n",
        "\n",
        "    plt.yticks(tick_marks, classes)\n",
        "\n",
        "\n",
        "    if normalize:\n",
        "\n",
        "        cm = cm.astype('float') / cm.sum(axis=1)[:, np.newaxis]\n",
        "\n",
        "        cm = np.around(cm, decimals=2)\n",
        "\n",
        "        cm[np.isnan(cm)] = 0.0\n",
        "\n",
        "        print(\"Normalized confusion matrix\")\n",
        "\n",
        "    else:\n",
        "\n",
        "        print('Confusion matrix, without normalization')\n",
        "\n",
        "    thresh = cm.max() / 2.\n",
        "\n",
        "    for i, j in itertools.product(range(cm.shape[0]), range(cm.shape[1])):\n",
        "\n",
        "        plt.text(j, i, cm[i, j],\n",
        "\n",
        "                 horizontalalignment=\"center\",\n",
        "\n",
        "                 color=\"white\" if cm[i, j] > thresh else \"black\")\n",
        "\n",
        "    plt.tight_layout()\n",
        "\n",
        "    plt.ylabel('True label')\n",
        "\n",
        "    plt.xlabel('Predicted label')\n"
      ],
      "execution_count": null,
      "outputs": []
    },
    {
      "cell_type": "code",
      "metadata": {
        "id": "9O7RyVotlTLF",
        "colab": {
          "base_uri": "https://localhost:8080/",
          "height": 776
        },
        "outputId": "03e8682a-4676-4e9b-9b42-655c54d7b2a0"
      },
      "source": [
        "import numpy as np\n",
        "from sklearn.metrics import classification_report, confusion_matrix\n",
        "\n",
        "target_names = []\n",
        "\n",
        "for key in training_set.class_indices:\n",
        "\n",
        "    target_names.append(key)\n",
        "\n",
        "\n",
        "print(target_names)\n",
        "\n",
        "\n",
        "test_steps_per_epoch = np.math.ceil(test_set.samples / test_set.batch_size)\n",
        "\n",
        "Y_pred = model.predict(test_set, steps=test_steps_per_epoch)\n",
        "\n",
        "y_pred = np.argmax(Y_pred, axis=1)\n",
        "\n",
        "print('Confusion Matrix')\n",
        "\n",
        "cm = confusion_matrix(test_set.classes, y_pred)\n",
        "\n",
        "plot_confusion_matrix(cm, target_names, title='Confusion Matrix')"
      ],
      "execution_count": null,
      "outputs": [
        {
          "output_type": "stream",
          "text": [
            "['COVID19', 'NORMAL', 'PNEUMONIA']\n",
            "Confusion Matrix\n",
            "Normalized confusion matrix\n"
          ],
          "name": "stdout"
        },
        {
          "output_type": "display_data",
          "data": {
            "image/png": "[encoded data removed]",
            "text/plain": [
              "<Figure size 720x720 with 2 Axes>"
            ]
          },
          "metadata": {
            "tags": [],
            "needs_background": "light"
          }
        }
      ]
    },
    {
      "cell_type": "markdown",
      "metadata": {
        "id": "7s-YzfHepUkF"
      },
      "source": [
        "# Classification report"
      ]
    },
    {
      "cell_type": "code",
      "metadata": {
        "id": "R1KYS3NNl3ns"
      },
      "source": [
        "test_steps_per_epoch = np.math.ceil(test_set.samples / test_set.batch_size)\n",
        "\n",
        "predictions = model.predict(test_set, steps=test_steps_per_epoch)\n",
        "# Get most likely class\n",
        "predicted_classes = np.argmax(predictions, axis=-1)\n",
        "true_classes = test_set.classes\n",
        "class_labels = list(test_set.class_indices.keys())  "
      ],
      "execution_count": null,
      "outputs": []
    },
    {
      "cell_type": "code",
      "metadata": {
        "id": "Q1P7paBrmCoR",
        "colab": {
          "base_uri": "https://localhost:8080/"
        },
        "outputId": "4965130c-e472-467d-de72-2b8e6e0a8736"
      },
      "source": [
        "report = classification_report(true_classes, predicted_classes, target_names=class_labels)\n",
        "print(report) "
      ],
      "execution_count": null,
      "outputs": [
        {
          "output_type": "stream",
          "text": [
            "              precision    recall  f1-score   support\n",
            "\n",
            "     COVID19       0.04      0.04      0.04        23\n",
            "      NORMAL       0.34      0.36      0.35        64\n",
            "   PNEUMONIA       0.69      0.67      0.68       171\n",
            "\n",
            "    accuracy                           0.53       258\n",
            "   macro avg       0.36      0.36      0.36       258\n",
            "weighted avg       0.54      0.53      0.54       258\n",
            "\n"
          ],
          "name": "stdout"
        }
      ]
    },
    {
      "cell_type": "markdown",
      "metadata": {
        "id": "FbuKtoenmKKr"
      },
      "source": [
        "# Saving and Loading the model for prediction"
      ]
    },
    {
      "cell_type": "code",
      "metadata": {
        "id": "aNnXmRj-kB38"
      },
      "source": [
        "from keras.models import model_from_json\n",
        "from keras.models import load_model"
      ],
      "execution_count": null,
      "outputs": []
    },
    {
      "cell_type": "code",
      "metadata": {
        "id": "lwCa76NBgcM-"
      },
      "source": [
        "model_json = model.to_json()\n",
        "with open(\"/content/best_Model_weights.json\", \"w\") as json_file:\n",
        "    json_file.write(model_json)"
      ],
      "execution_count": null,
      "outputs": []
    },
    {
      "cell_type": "code",
      "metadata": {
        "id": "zACrAM0hiHC8"
      },
      "source": [
        "json_file = open('/content/best_Model_weights.json', 'r')\n",
        "loaded_model_json = json_file.read()\n",
        "json_file.close()\n",
        "loaded_model = model_from_json(loaded_model_json)\n",
        "loaded_model.load_weights('best_Model_weights.h5')"
      ],
      "execution_count": null,
      "outputs": []
    },
    {
      "cell_type": "code",
      "metadata": {
        "id": "4X--CityAMlc"
      },
      "source": [
        "# from keras.models import model_from_json\n",
        "# from keras.models import load_model\n",
        "\n",
        "# # serialize model to JSON\n",
        "# model_json = model.to_json()\n",
        "# with open(\"best_Model_weights.json\", \"w\") as json_file:\n",
        "#     json_file.write(model_json)\n",
        "\n",
        "# # serialize weights to HDF5\n",
        "# model.save_weights(\"best_Model_weights.h5\")"
      ],
      "execution_count": null,
      "outputs": []
    },
    {
      "cell_type": "code",
      "metadata": {
        "colab": {
          "base_uri": "https://localhost:8080/"
        },
        "id": "mdyjsFlOHYO3",
        "outputId": "bc2e986a-c5ed-474d-b699-4be890b55323"
      },
      "source": [
        "# # load json and create model\n",
        "# json_file = open('best_Model_weights.json', 'r')\n",
        "# loaded_model_json = json_file.read()\n",
        "# json_file.close()\n",
        "# loaded_model = model_from_json(loaded_model_json)\n",
        "\n",
        "# # load weights into new model\n",
        "# loaded_model.load_weights(\"best_Model_weights.h5\")\n",
        "# print(\"Loaded model from disk\")\n",
        "\n",
        "# loaded_model.save('best_Model_weights.hdf5')\n",
        "# loaded_model=load_model('best_Model_weights.hdf5')"
      ],
      "execution_count": null,
      "outputs": [
        {
          "output_type": "stream",
          "text": [
            "Loaded model from disk\n",
            "WARNING:tensorflow:Compiled the loaded model, but the compiled metrics have yet to be built. `model.compile_metrics` will be empty until you train or evaluate the model.\n",
            "WARNING:tensorflow:No training configuration found in the save file, so the model was *not* compiled. Compile it manually.\n"
          ],
          "name": "stdout"
        }
      ]
    },
    {
      "cell_type": "markdown",
      "metadata": {
        "id": "oEDcky_Xpg0y"
      },
      "source": [
        "# Deploying the model to Predict a single sample."
      ]
    },
    {
      "cell_type": "code",
      "metadata": {
        "id": "2uNM2_ghcuSB"
      },
      "source": [
        "# from keras.preprocessing import image\n",
        "# img = image.load_img(\"......\",target_size=(224,224))\n",
        "# img = np.asarray(img)\n",
        "\n",
        "# img = np.expand_dims(img, axis=0)\n",
        "# loaded_model.predict(img)"
      ],
      "execution_count": null,
      "outputs": []
    },
    {
      "cell_type": "code",
      "metadata": {
        "id": "0FZHR1-VdWLu"
      },
      "source": [
        "import numpy as np\n",
        "from keras.preprocessing import image\n",
        "test_image = image.load_img('......', target_size = (224, 224))\n",
        "test_image = image.img_to_array(test_image)\n",
        "test_image = np.expand_dims(test_image, axis = 1)\n",
        "predicted_classes= np.argmax(loaded_model.predict(test_image), axis=1)\n",
        "\n",
        "result = loaded_model.predict(test_image)\n",
        "test_set.class_indices\n",
        "if result[0][0][0] == 1:\n",
        "  prediction = 'Normal'\n",
        "elif result[0][1][0] ==1:\n",
        "  prediction = 'PNEUMONIA'\n",
        "else:\n",
        "  prediction = 'Covid'"
      ],
      "execution_count": null,
      "outputs": []
    },
    {
      "cell_type": "code",
      "metadata": {
        "id": "fmNaif_idmpR"
      },
      "source": [
        "print(prediction)\n",
        "print(result)"
      ],
      "execution_count": null,
      "outputs": []
    },
    {
      "cell_type": "markdown",
      "metadata": {
        "id": "S-bSHVibm1dD"
      },
      "source": [
        "# the code for the 4-class dataset and its organization."
      ]
    },
    {
      "cell_type": "code",
      "metadata": {
        "id": "sD3Z1bSqZXIw"
      },
      "source": [
        "!kaggle datasets download -d pratik2901/multiclass-weather-dataset #4-class dataset\n",
        "mkdir destination2\n",
        "!unzip /content/multiclass-weather-dataset.zip -d destination2"
      ],
      "execution_count": null,
      "outputs": []
    },
    {
      "cell_type": "code",
      "metadata": {
        "id": "lisuU9GjZOSg"
      },
      "source": [
        "import os\n",
        "import numpy as np\n",
        "import shutil\n",
        "import random\n",
        "root_dir = '/content/destination2/Multi-class Weather Dataset/' # data root path\n",
        "classes_dir = ['Cloudy', 'Rain', 'Shine', 'Sunrise'] #total labels\n",
        "\n",
        "val_ratio = 0.15\n",
        "test_ratio = 0.05\n",
        "\n",
        "for cls in classes_dir:\n",
        "    os.makedirs(root_dir +'train/' + cls)\n",
        "    os.makedirs(root_dir +'val/' + cls)\n",
        "    os.makedirs(root_dir +'test/' + cls)\n",
        "\n",
        "    # Creating partitions of the data after shuffeling\n",
        "    src = root_dir + cls # Folder to copy images from\n",
        "\n",
        "    allFileNames = os.listdir(src)\n",
        "    np.random.shuffle(allFileNames)\n",
        "    train_FileNames, val_FileNames, test_FileNames = np.split(np.array(allFileNames),\n",
        "                                                          [int(len(allFileNames)* (1 - (val_ratio + test_ratio))), \n",
        "                                                           int(len(allFileNames)* (1 - test_ratio))])\n",
        "\n",
        "\n",
        "    train_FileNames = [src+'/'+ name for name in train_FileNames.tolist()]\n",
        "    val_FileNames = [src+'/' + name for name in val_FileNames.tolist()]\n",
        "    test_FileNames = [src+'/' + name for name in test_FileNames.tolist()]\n",
        "\n",
        "    print('Total images: ', len(allFileNames))\n",
        "    print('Training: ', len(train_FileNames))\n",
        "    print('Validation: ', len(val_FileNames))\n",
        "    print('Testing: ', len(test_FileNames))\n",
        "\n",
        "    # Copy-pasting images\n",
        "    for name in train_FileNames:\n",
        "      shutil.copy(name, root_dir +'train/' + cls)\n",
        "\n",
        "    for name in val_FileNames:\n",
        "      shutil.copy(name, root_dir +'val/' + cls)\n",
        "      \n",
        "    for name in test_FileNames:\n",
        "      shutil.copy(name, root_dir +'test/' + cls)"
      ],
      "execution_count": null,
      "outputs": []
    },
    {
      "cell_type": "code",
      "metadata": {
        "colab": {
          "base_uri": "https://localhost:8080/"
        },
        "id": "SzqnBEViLlw4",
        "outputId": "b8570112-51c7-480c-ebf6-98785edbd13b"
      },
      "source": [
        "train_datagen1 = ImageDataGenerator()\n",
        "training_set1 = train_datagen1.flow_from_directory('/content/destination2/Multi-class Weather Dataset/train',\n",
        "                                                 target_size = (224, 224), class_mode='categorical', batch_size=8\n",
        "                                                )"
      ],
      "execution_count": null,
      "outputs": [
        {
          "output_type": "stream",
          "text": [
            "Found 899 images belonging to 4 classes.\n"
          ],
          "name": "stdout"
        }
      ]
    },
    {
      "cell_type": "code",
      "metadata": {
        "colab": {
          "base_uri": "https://localhost:8080/"
        },
        "id": "cED3ss7ULzua",
        "outputId": "0be73daf-abdf-457f-f617-5cf3af8e1f09"
      },
      "source": [
        "val_datagen1 = ImageDataGenerator()\n",
        "val_set1 = val_datagen1.flow_from_directory('/content/destination2/Multi-class Weather Dataset/val',\n",
        "                                            target_size = (224, 224), class_mode='categorical', batch_size=8\n",
        "                                           )"
      ],
      "execution_count": null,
      "outputs": [
        {
          "output_type": "stream",
          "text": [
            "Found 169 images belonging to 4 classes.\n"
          ],
          "name": "stdout"
        }
      ]
    },
    {
      "cell_type": "code",
      "metadata": {
        "colab": {
          "base_uri": "https://localhost:8080/"
        },
        "id": "hd1nOgvAwa_T",
        "outputId": "822bf8ef-472c-475d-be4f-05fa31ce61f1"
      },
      "source": [
        "test_datagen1 = ImageDataGenerator()\n",
        "test_set1 = test_datagen1.flow_from_directory('/content/destination4/Multi-class Weather Dataset/test',\n",
        "                                            target_size = (224, 224), class_mode='categorical',batch_size=4\n",
        "                                           )"
      ],
      "execution_count": null,
      "outputs": [
        {
          "output_type": "stream",
          "text": [
            "Found 57 images belonging to 4 classes.\n"
          ],
          "name": "stdout"
        }
      ]
    },
    {
      "cell_type": "code",
      "metadata": {
        "id": "V-0OBPI2wlrL"
      },
      "source": [
        "loaded_model.compile(optimizer=opt, loss=keras.losses.categorical_crossentropy, metrics=['accuracy'])"
      ],
      "execution_count": null,
      "outputs": []
    },
    {
      "cell_type": "code",
      "metadata": {
        "id": "hUJbpXlcNKYf"
      },
      "source": [
        "checkpoint_filepath = 'bff.h5'\n",
        "model_checkpoint_callback = keras.callbacks.ModelCheckpoint(checkpoint_filepath,save_best_only=True, monitor='val_accuracy')\n"
      ],
      "execution_count": null,
      "outputs": []
    },
    {
      "cell_type": "markdown",
      "metadata": {
        "id": "-jcjEh1YnMY-"
      },
      "source": [
        "# Training a model trainded on 3-class dataset on a 4-class dataset (still  being prepared and worked on)"
      ]
    },
    {
      "cell_type": "code",
      "metadata": {
        "id": "F16b5VSQNKfr"
      },
      "source": [
        "\n",
        "# results1 = loaded_model.fit(x=training_set1, validation_data= val_set1, epochs=40,callbacks=[model_checkpoint_callback])"
      ],
      "execution_count": null,
      "outputs": []
    }
  ]
}