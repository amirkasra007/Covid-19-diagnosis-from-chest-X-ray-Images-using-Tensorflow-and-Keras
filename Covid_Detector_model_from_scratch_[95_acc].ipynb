{
  "nbformat": 4,
  "nbformat_minor": 0,
  "metadata": {
    "colab": {
      "name": "Covid Detector model from scratch [95%acc].ipynb",
      "provenance": []
    },
    "kernelspec": {
      "name": "python3",
      "display_name": "Python 3"
    },
    "language_info": {
      "name": "python"
    },
    "accelerator": "GPU"
  },
  "cells": [
    {
      "cell_type": "code",
      "metadata": {
        "colab": {
          "resources": {
            "http://localhost:8080/nbextensions/google.colab/files.js": {
              "data": "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",
              "ok": true,
              "headers": [
                [
                  "content-type",
                  "application/javascript"
                ]
              ],
              "status": 200,
              "status_text": "OK"
            }
          },
          "base_uri": "https://localhost:8080/",
          "height": 93
        },
        "id": "oWjq5HPzXCdc",
        "outputId": "c92bbcaf-36e0-4548-d05a-161f2ce46225"
      },
      "source": [
        "from google.colab import files\n",
        "files.upload()"
      ],
      "execution_count": null,
      "outputs": [
        {
          "output_type": "display_data",
          "data": {
            "text/html": [
              "\n",
              "     <input type=\"file\" id=\"files-6dd7549f-8e76-44d1-933d-621da98b05e0\" name=\"files[]\" multiple disabled\n",
              "        style=\"border:none\" />\n",
              "     <output id=\"result-6dd7549f-8e76-44d1-933d-621da98b05e0\">\n",
              "      Upload widget is only available when the cell has been executed in the\n",
              "      current browser session. Please rerun this cell to enable.\n",
              "      </output>\n",
              "      <script src=\"/nbextensions/google.colab/files.js\"></script> "
            ],
            "text/plain": [
              "<IPython.core.display.HTML object>"
            ]
          },
          "metadata": {}
        },
        {
          "output_type": "stream",
          "text": [
            "Saving kaggle.json to kaggle.json\n"
          ],
          "name": "stdout"
        },
        {
          "output_type": "execute_result",
          "data": {
            "text/plain": [
              "{'kaggle.json': b'{\"username\":\"....\",\"key\":\".....\"}'}"
            ]
          },
          "metadata": {},
          "execution_count": 1
        }
      ]
    },
    {
      "cell_type": "code",
      "metadata": {
        "id": "a-jJHrIUW7qn"
      },
      "source": [
        "!pip install -q kaggle"
      ],
      "execution_count": null,
      "outputs": []
    },
    {
      "cell_type": "code",
      "metadata": {
        "id": "h9THC4hCW-z4"
      },
      "source": [
        "!mkdir ~/.kaggle\n",
        "!touch ~/.kaggle/kaggle.json\n",
        "\n",
        "api_token = {\"username\":\".....\",\"key\":\"........\"}\n",
        "\n",
        "import json\n",
        "\n",
        "with open('/root/.kaggle/kaggle.json', 'w') as file:\n",
        "    json.dump(api_token, file)\n",
        "\n",
        "!chmod 600 ~/.kaggle/kaggle.json"
      ],
      "execution_count": null,
      "outputs": []
    },
    {
      "cell_type": "code",
      "metadata": {
        "colab": {
          "base_uri": "https://localhost:8080/"
        },
        "id": "cRxvQJGIWqKs",
        "outputId": "41032e9b-38b7-4a8e-f3ca-4d27858da068"
      },
      "source": [
        "!kaggle datasets download -d prashant268/chest-xray-covid19-pneumonia #3-class dataset"
      ],
      "execution_count": null,
      "outputs": [
        {
          "output_type": "stream",
          "text": [
            "Downloading chest-xray-covid19-pneumonia.zip to /content\n",
            "100% 2.05G/2.06G [00:23<00:00, 51.7MB/s]\n",
            "100% 2.06G/2.06G [00:23<00:00, 94.0MB/s]\n"
          ],
          "name": "stdout"
        }
      ]
    },
    {
      "cell_type": "code",
      "metadata": {
        "id": "leuQeXYcXs3x"
      },
      "source": [
        "mkdir destination1"
      ],
      "execution_count": null,
      "outputs": []
    },
    {
      "cell_type": "code",
      "metadata": {
        "id": "EFUGtA_XXzU0"
      },
      "source": [
        "!unzip /content/chest-xray-covid19-pneumonia.zip -d destination1"
      ],
      "execution_count": null,
      "outputs": []
    },
    {
      "cell_type": "code",
      "metadata": {
        "colab": {
          "base_uri": "https://localhost:8080/"
        },
        "id": "6_6KSam5hB6R",
        "outputId": "4587eda7-9fab-477d-c7f8-12300fa99b8b"
      },
      "source": [
        "import os\n",
        "import numpy as np\n",
        "import shutil\n",
        "import random\n",
        "\n",
        "\n",
        "make_dir ='/content/destination1/Data'\n",
        "root_dir = '/content/destination1/Data/train'\n",
        "classes_dir = ['COVID19','NORMAL','PNEUMONIA']\n",
        "\n",
        "val_ratio = 0.05\n",
        "\n",
        "for cls in classes_dir:\n",
        "\n",
        "  os.makedirs(make_dir +'/val/' + cls)\n",
        "\n",
        "\n",
        "    # Creating partitions of the data after shuffeling\n",
        "  src = root_dir + '/'+ cls # Folder to copy images from\n",
        "\n",
        "  allFileNames = os.listdir(src)\n",
        "  np.random.shuffle(allFileNames)\n",
        "  train_FileNames, val_FileNames = np.split(np.array(allFileNames),\n",
        "                                                              [int(len(allFileNames)* (1 - val_ratio))])\n",
        "\n",
        "\n",
        "  train_FileNames = [src+'/'+ name for name in train_FileNames.tolist()]\n",
        "  val_FileNames = [src+'/' + name for name in val_FileNames.tolist()]\n",
        "\n",
        "  print('Total images: ', len(allFileNames))\n",
        "  print('Training: ', len(train_FileNames))\n",
        "  print('Validation: ', len(val_FileNames))\n",
        "\n",
        "  # moving images\n",
        "\n",
        "  for name in val_FileNames:\n",
        "    shutil.move(name, make_dir +'/val/' + cls)\n"
      ],
      "execution_count": null,
      "outputs": [
        {
          "output_type": "stream",
          "text": [
            "Total images:  460\n",
            "Training:  437\n",
            "Validation:  23\n",
            "Total images:  1266\n",
            "Training:  1202\n",
            "Validation:  64\n",
            "Total images:  3418\n",
            "Training:  3247\n",
            "Validation:  171\n"
          ],
          "name": "stdout"
        }
      ]
    },
    {
      "cell_type": "code",
      "metadata": {
        "id": "vJU6giniYKZ-"
      },
      "source": [
        "import tensorflow as tf\n",
        "import keras,os\n",
        "from keras.models import Sequential\n",
        "from keras.layers import Dense, Conv2D, MaxPool2D , Flatten\n",
        "from keras.preprocessing.image import ImageDataGenerator\n",
        "import numpy as np"
      ],
      "execution_count": null,
      "outputs": []
    },
    {
      "cell_type": "code",
      "metadata": {
        "colab": {
          "base_uri": "https://localhost:8080/"
        },
        "id": "vUvOWIsIUhJu",
        "outputId": "2231237d-ebf0-48c0-bece-619b5e59b828"
      },
      "source": [
        "#train\n",
        "train_datagen = ImageDataGenerator()\n",
        "training_set = train_datagen.flow_from_directory('/content/destination1/Data/train',\n",
        "                                                 target_size = (224, 224), class_mode='categorical', batch_size=32\n",
        "                                                )"
      ],
      "execution_count": null,
      "outputs": [
        {
          "output_type": "stream",
          "text": [
            "Found 4886 images belonging to 3 classes.\n"
          ],
          "name": "stdout"
        }
      ]
    },
    {
      "cell_type": "code",
      "metadata": {
        "colab": {
          "base_uri": "https://localhost:8080/"
        },
        "id": "auGQXjcmpm7V",
        "outputId": "044d3302-678d-4ebd-a027-b29815811ec8"
      },
      "source": [
        "#test\n",
        "test_datagen = ImageDataGenerator()\n",
        "test_set = test_datagen.flow_from_directory('/content/destination1/Data/val',\n",
        "                                                 target_size = (224, 224), class_mode='categorical',\n",
        "                                             batch_size=16, shuffle= False\n",
        "                                                )"
      ],
      "execution_count": null,
      "outputs": [
        {
          "output_type": "stream",
          "text": [
            "Found 258 images belonging to 3 classes.\n"
          ],
          "name": "stdout"
        }
      ]
    },
    {
      "cell_type": "code",
      "metadata": {
        "colab": {
          "base_uri": "https://localhost:8080/"
        },
        "id": "FWBDXOjAUhOq",
        "outputId": "7f1b6964-02cc-4f6d-d671-ab69d51cdc18"
      },
      "source": [
        "#validation\n",
        "val_datagen = ImageDataGenerator()\n",
        "val_set = val_datagen.flow_from_directory('/content/destination1/Data/test',\n",
        "                                            target_size = (224, 224), class_mode='categorical', batch_size=32\n",
        "                                           )"
      ],
      "execution_count": null,
      "outputs": [
        {
          "output_type": "stream",
          "text": [
            "Found 1288 images belonging to 3 classes.\n"
          ],
          "name": "stdout"
        }
      ]
    },
    {
      "cell_type": "code",
      "metadata": {
        "id": "6tWhvhfPUhUc"
      },
      "source": [
        "model = Sequential()\n",
        "\n",
        "model.add(Conv2D(input_shape=(224,224,3),filters=64,kernel_size=(3,3),padding=\"same\", activation=\"relu\"))\n",
        "\n",
        "model.add(Conv2D(filters=64,kernel_size=(3,3),padding=\"same\", activation=\"relu\"))\n",
        "\n",
        "model.add(MaxPool2D(pool_size=(2,2),strides=(2,2)))\n",
        "\n",
        "\n",
        "model.add(Conv2D(filters=128, kernel_size=(3,3), padding=\"same\", activation=\"relu\"))\n",
        "\n",
        "model.add(Conv2D(filters=128, kernel_size=(3,3), padding=\"same\", activation=\"relu\"))\n",
        "\n",
        "model.add(MaxPool2D(pool_size=(2,2),strides=(2,2)))\n",
        "\n",
        "\n",
        "model.add(Conv2D(filters=256, kernel_size=(3,3), padding=\"same\", activation=\"relu\"))\n",
        "\n",
        "model.add(Conv2D(filters=256, kernel_size=(3,3), padding=\"same\", activation=\"relu\"))\n",
        "\n",
        "model.add(MaxPool2D(pool_size=(2,2),strides=(2,2)))\n",
        "\n",
        "\n",
        "model.add(Conv2D(filters=512, kernel_size=(3,3), padding=\"same\", activation=\"relu\"))\n",
        "\n",
        "model.add(Conv2D(filters=512, kernel_size=(3,3), padding=\"same\", activation=\"relu\"))\n",
        "\n",
        "model.add(MaxPool2D(pool_size=(2,2),strides=(2,2)))\n"
      ],
      "execution_count": null,
      "outputs": []
    },
    {
      "cell_type": "code",
      "metadata": {
        "id": "i12Ia3AxZdwB"
      },
      "source": [
        "model.add(Flatten())\n",
        "model.add(Dense(units=512,activation=\"relu\"))\n",
        "model.add(Dense(units=1024,activation=\"relu\"))\n",
        "model.add(Dense(units=3, activation=\"softmax\"))"
      ],
      "execution_count": null,
      "outputs": []
    },
    {
      "cell_type": "code",
      "metadata": {
        "id": "jLOiyWz_Zlm5"
      },
      "source": [
        "opt = tf.keras.optimizers.Adam(learning_rate=0.001)"
      ],
      "execution_count": null,
      "outputs": []
    },
    {
      "cell_type": "code",
      "metadata": {
        "id": "-9HhMoIRZxzc"
      },
      "source": [
        "model.compile(loss='categorical_crossentropy', optimizer=opt, metrics=['accuracy'])\n",
        "#model.compile(optimizer='adam', loss=keras.losses.categorical_crossentropy, metrics=['accuracy'])"
      ],
      "execution_count": null,
      "outputs": []
    },
    {
      "cell_type": "code",
      "metadata": {
        "colab": {
          "base_uri": "https://localhost:8080/"
        },
        "id": "_FgXqLXiZ0IK",
        "outputId": "aaf42924-fc6f-44cf-aabd-d90d4936f87d"
      },
      "source": [
        "model.summary()"
      ],
      "execution_count": null,
      "outputs": [
        {
          "output_type": "stream",
          "text": [
            "Model: \"sequential\"\n",
            "_________________________________________________________________\n",
            "Layer (type)                 Output Shape              Param #   \n",
            "=================================================================\n",
            "conv2d (Conv2D)              (None, 224, 224, 64)      1792      \n",
            "_________________________________________________________________\n",
            "conv2d_1 (Conv2D)            (None, 224, 224, 64)      36928     \n",
            "_________________________________________________________________\n",
            "max_pooling2d (MaxPooling2D) (None, 112, 112, 64)      0         \n",
            "_________________________________________________________________\n",
            "conv2d_2 (Conv2D)            (None, 112, 112, 128)     73856     \n",
            "_________________________________________________________________\n",
            "conv2d_3 (Conv2D)            (None, 112, 112, 128)     147584    \n",
            "_________________________________________________________________\n",
            "max_pooling2d_1 (MaxPooling2 (None, 56, 56, 128)       0         \n",
            "_________________________________________________________________\n",
            "conv2d_4 (Conv2D)            (None, 56, 56, 256)       295168    \n",
            "_________________________________________________________________\n",
            "conv2d_5 (Conv2D)            (None, 56, 56, 256)       590080    \n",
            "_________________________________________________________________\n",
            "max_pooling2d_2 (MaxPooling2 (None, 28, 28, 256)       0         \n",
            "_________________________________________________________________\n",
            "conv2d_6 (Conv2D)            (None, 28, 28, 512)       1180160   \n",
            "_________________________________________________________________\n",
            "conv2d_7 (Conv2D)            (None, 28, 28, 512)       2359808   \n",
            "_________________________________________________________________\n",
            "max_pooling2d_3 (MaxPooling2 (None, 14, 14, 512)       0         \n",
            "_________________________________________________________________\n",
            "flatten (Flatten)            (None, 100352)            0         \n",
            "_________________________________________________________________\n",
            "dense (Dense)                (None, 512)               51380736  \n",
            "_________________________________________________________________\n",
            "dense_1 (Dense)              (None, 1024)              525312    \n",
            "_________________________________________________________________\n",
            "dense_2 (Dense)              (None, 3)                 3075      \n",
            "=================================================================\n",
            "Total params: 56,594,499\n",
            "Trainable params: 56,594,499\n",
            "Non-trainable params: 0\n",
            "_________________________________________________________________\n"
          ],
          "name": "stdout"
        }
      ]
    },
    {
      "cell_type": "code",
      "metadata": {
        "id": "qGyayqk1Z0Qo"
      },
      "source": [
        "from keras.callbacks import ModelCheckpoint, EarlyStopping"
      ],
      "execution_count": null,
      "outputs": []
    },
    {
      "cell_type": "code",
      "metadata": {
        "id": "Vc8pyB1CKsxh"
      },
      "source": [
        "filepath = '/content/best_Model_weights.h5'\n",
        "checkpoint = ModelCheckpoint(filepath, monitor='val_accuracy', verbose=1, save_best_only=True, mode='max')\n",
        "# early = EarlyStopping(monitor='val_accuracy', min_delta=0, patience=20, mode='auto')"
      ],
      "execution_count": null,
      "outputs": []
    },
    {
      "cell_type": "code",
      "metadata": {
        "id": "WIji_UmqaVvc",
        "colab": {
          "base_uri": "https://localhost:8080/"
        },
        "outputId": "814c6cc6-c5d4-49fb-e707-5dfc98133090"
      },
      "source": [
        "results = model.fit(x=training_set, validation_data= val_set, epochs=25,callbacks=checkpoint)"
      ],
      "execution_count": null,
      "outputs": [
        {
          "output_type": "stream",
          "text": [
            "Epoch 1/25\n",
            "153/153 [==============================] - 240s 1s/step - loss: 3.8307 - accuracy: 0.7231 - val_loss: 0.3085 - val_accuracy: 0.8835\n",
            "\n",
            "Epoch 00001: val_accuracy improved from -inf to 0.88354, saving model to /content/best_Model_weights.h5\n",
            "Epoch 2/25\n",
            "153/153 [==============================] - 189s 1s/step - loss: 0.2532 - accuracy: 0.9052 - val_loss: 0.2673 - val_accuracy: 0.9006\n",
            "\n",
            "Epoch 00002: val_accuracy improved from 0.88354 to 0.90062, saving model to /content/best_Model_weights.h5\n",
            "Epoch 3/25\n",
            "153/153 [==============================] - 189s 1s/step - loss: 0.2705 - accuracy: 0.9077 - val_loss: 0.2857 - val_accuracy: 0.8929\n",
            "\n",
            "Epoch 00003: val_accuracy did not improve from 0.90062\n",
            "Epoch 4/25\n",
            "153/153 [==============================] - 187s 1s/step - loss: 0.1648 - accuracy: 0.9425 - val_loss: 0.1797 - val_accuracy: 0.9394\n",
            "\n",
            "Epoch 00004: val_accuracy improved from 0.90062 to 0.93944, saving model to /content/best_Model_weights.h5\n",
            "Epoch 5/25\n",
            "153/153 [==============================] - 188s 1s/step - loss: 0.1601 - accuracy: 0.9443 - val_loss: 0.2134 - val_accuracy: 0.9278\n",
            "\n",
            "Epoch 00005: val_accuracy did not improve from 0.93944\n",
            "Epoch 6/25\n",
            "153/153 [==============================] - 185s 1s/step - loss: 0.1128 - accuracy: 0.9582 - val_loss: 0.1527 - val_accuracy: 0.9488\n",
            "\n",
            "Epoch 00006: val_accuracy improved from 0.93944 to 0.94876, saving model to /content/best_Model_weights.h5\n",
            "Epoch 7/25\n",
            "153/153 [==============================] - 185s 1s/step - loss: 0.0951 - accuracy: 0.9634 - val_loss: 0.1921 - val_accuracy: 0.9457\n",
            "\n",
            "Epoch 00007: val_accuracy did not improve from 0.94876\n",
            "Epoch 8/25\n",
            "153/153 [==============================] - 184s 1s/step - loss: 0.0846 - accuracy: 0.9683 - val_loss: 0.2916 - val_accuracy: 0.9286\n",
            "\n",
            "Epoch 00008: val_accuracy did not improve from 0.94876\n",
            "Epoch 9/25\n",
            "153/153 [==============================] - 183s 1s/step - loss: 0.0908 - accuracy: 0.9658 - val_loss: 0.2391 - val_accuracy: 0.9340\n",
            "\n",
            "Epoch 00009: val_accuracy did not improve from 0.94876\n",
            "Epoch 10/25\n",
            "153/153 [==============================] - 182s 1s/step - loss: 0.0621 - accuracy: 0.9761 - val_loss: 0.2237 - val_accuracy: 0.9371\n",
            "\n",
            "Epoch 00010: val_accuracy did not improve from 0.94876\n",
            "Epoch 11/25\n",
            "153/153 [==============================] - 182s 1s/step - loss: 0.0699 - accuracy: 0.9730 - val_loss: 0.2458 - val_accuracy: 0.9356\n",
            "\n",
            "Epoch 00011: val_accuracy did not improve from 0.94876\n",
            "Epoch 12/25\n",
            "153/153 [==============================] - 184s 1s/step - loss: 0.0600 - accuracy: 0.9775 - val_loss: 0.3292 - val_accuracy: 0.9255\n",
            "\n",
            "Epoch 00012: val_accuracy did not improve from 0.94876\n",
            "Epoch 13/25\n",
            "153/153 [==============================] - 183s 1s/step - loss: 0.0456 - accuracy: 0.9832 - val_loss: 0.2355 - val_accuracy: 0.9433\n",
            "\n",
            "Epoch 00013: val_accuracy did not improve from 0.94876\n",
            "Epoch 14/25\n",
            "153/153 [==============================] - 182s 1s/step - loss: 0.0577 - accuracy: 0.9793 - val_loss: 0.3302 - val_accuracy: 0.9356\n",
            "\n",
            "Epoch 00014: val_accuracy did not improve from 0.94876\n",
            "Epoch 15/25\n",
            "153/153 [==============================] - 182s 1s/step - loss: 0.0755 - accuracy: 0.9769 - val_loss: 0.2454 - val_accuracy: 0.9356\n",
            "\n",
            "Epoch 00015: val_accuracy did not improve from 0.94876\n",
            "Epoch 16/25\n",
            "153/153 [==============================] - 181s 1s/step - loss: 0.0481 - accuracy: 0.9842 - val_loss: 0.2766 - val_accuracy: 0.9379\n",
            "\n",
            "Epoch 00016: val_accuracy did not improve from 0.94876\n",
            "Epoch 17/25\n",
            "153/153 [==============================] - 183s 1s/step - loss: 0.0436 - accuracy: 0.9840 - val_loss: 0.2393 - val_accuracy: 0.9418\n",
            "\n",
            "Epoch 00017: val_accuracy did not improve from 0.94876\n",
            "Epoch 18/25\n",
            "153/153 [==============================] - 182s 1s/step - loss: 0.0733 - accuracy: 0.9771 - val_loss: 0.3202 - val_accuracy: 0.9433\n",
            "\n",
            "Epoch 00018: val_accuracy did not improve from 0.94876\n",
            "Epoch 19/25\n",
            "153/153 [==============================] - 184s 1s/step - loss: 0.0372 - accuracy: 0.9859 - val_loss: 0.3614 - val_accuracy: 0.9247\n",
            "\n",
            "Epoch 00019: val_accuracy did not improve from 0.94876\n",
            "Epoch 20/25\n",
            "153/153 [==============================] - 185s 1s/step - loss: 0.0359 - accuracy: 0.9879 - val_loss: 0.3328 - val_accuracy: 0.9402\n",
            "\n",
            "Epoch 00020: val_accuracy did not improve from 0.94876\n",
            "Epoch 21/25\n",
            "153/153 [==============================] - 186s 1s/step - loss: 0.0246 - accuracy: 0.9906 - val_loss: 0.2510 - val_accuracy: 0.9410\n",
            "\n",
            "Epoch 00021: val_accuracy did not improve from 0.94876\n",
            "Epoch 22/25\n",
            "153/153 [==============================] - 186s 1s/step - loss: 0.0151 - accuracy: 0.9947 - val_loss: 0.4203 - val_accuracy: 0.9418\n",
            "\n",
            "Epoch 00022: val_accuracy did not improve from 0.94876\n",
            "Epoch 23/25\n",
            "153/153 [==============================] - 187s 1s/step - loss: 0.0050 - accuracy: 0.9980 - val_loss: 0.4841 - val_accuracy: 0.9441\n",
            "\n",
            "Epoch 00023: val_accuracy did not improve from 0.94876\n",
            "Epoch 24/25\n",
            "153/153 [==============================] - 186s 1s/step - loss: 0.0071 - accuracy: 0.9973 - val_loss: 0.8001 - val_accuracy: 0.9255\n",
            "\n",
            "Epoch 00024: val_accuracy did not improve from 0.94876\n",
            "Epoch 25/25\n",
            "153/153 [==============================] - 186s 1s/step - loss: 0.0526 - accuracy: 0.9818 - val_loss: 0.2947 - val_accuracy: 0.9402\n",
            "\n",
            "Epoch 00025: val_accuracy did not improve from 0.94876\n"
          ],
          "name": "stdout"
        }
      ]
    },
    {
      "cell_type": "markdown",
      "metadata": {
        "id": "_wiP9A1iqFbg"
      },
      "source": [
        "# Model accuracy and loss graphs"
      ]
    },
    {
      "cell_type": "code",
      "metadata": {
        "id": "FXjansc9lmoY",
        "colab": {
          "base_uri": "https://localhost:8080/",
          "height": 295
        },
        "outputId": "f47a0442-8f50-4c45-ba7a-b72d8a6369db"
      },
      "source": [
        "import matplotlib.pyplot as plt\n",
        "plt.plot(results.history[\"accuracy\"])\n",
        "plt.plot(results.history['val_accuracy'])\n",
        "plt.plot(results.history['loss'])\n",
        "plt.plot(results.history['val_loss'])\n",
        "plt.title(\"model accuracy\")\n",
        "plt.ylabel(\"Accuracy\")\n",
        "plt.xlabel(\"Epoch\")\n",
        "plt.legend([\"Accuracy\",\"Validation Accuracy\",\"loss\",\"Validation Loss\"])\n",
        "plt.show()"
      ],
      "execution_count": null,
      "outputs": [
        {
          "output_type": "display_data",
          "data": {
            "image/png": "[encoded data removed]",
            "text/plain": [
              "<Figure size 432x288 with 1 Axes>"
            ]
          },
          "metadata": {
            "needs_background": "light"
          }
        }
      ]
    },
    {
      "cell_type": "markdown",
      "metadata": {
        "id": "sE-N9DqBpGXN"
      },
      "source": [
        "# Graphical confusion matrix\n"
      ]
    },
    {
      "cell_type": "code",
      "metadata": {
        "id": "hjZqR73DlJP1"
      },
      "source": [
        "import matplotlib.pyplot as plt\n",
        "import itertools  "
      ],
      "execution_count": null,
      "outputs": []
    },
    {
      "cell_type": "code",
      "metadata": {
        "id": "igtb2mMjlJvY"
      },
      "source": [
        "def plot_confusion_matrix(cm, classes, normalize=True, title='Confusion matrix', cmap=plt.cm.Blues):\n",
        "\n",
        "    \"\"\"\n",
        "\n",
        "    This function prints and plots the confusion matrix.\n",
        "\n",
        "    Normalization can be applied by setting `normalize=True`.\n",
        "\n",
        "    \"\"\"\n",
        "\n",
        "    plt.figure(figsize=(10,10))\n",
        "\n",
        "\n",
        "    plt.imshow(cm, interpolation='nearest', cmap=cmap)\n",
        "\n",
        "    plt.title(title)\n",
        "\n",
        "    plt.colorbar()\n",
        "\n",
        "\n",
        "    tick_marks = np.arange(len(classes))\n",
        "\n",
        "    plt.xticks(tick_marks, classes, rotation=45)\n",
        "\n",
        "    plt.yticks(tick_marks, classes)\n",
        "\n",
        "\n",
        "    if normalize:\n",
        "\n",
        "        cm = cm.astype('float') / cm.sum(axis=1)[:, np.newaxis]\n",
        "\n",
        "        cm = np.around(cm, decimals=2)\n",
        "\n",
        "        cm[np.isnan(cm)] = 0.0\n",
        "\n",
        "        print(\"Normalized confusion matrix\")\n",
        "\n",
        "    else:\n",
        "\n",
        "        print('Confusion matrix, without normalization')\n",
        "\n",
        "    thresh = cm.max() / 2.\n",
        "\n",
        "    for i, j in itertools.product(range(cm.shape[0]), range(cm.shape[1])):\n",
        "\n",
        "        plt.text(j, i, cm[i, j],\n",
        "\n",
        "                 horizontalalignment=\"center\",\n",
        "\n",
        "                 color=\"white\" if cm[i, j] > thresh else \"black\")\n",
        "\n",
        "    plt.tight_layout()\n",
        "\n",
        "    plt.ylabel('True label')\n",
        "\n",
        "    plt.xlabel('Predicted label')\n"
      ],
      "execution_count": null,
      "outputs": []
    },
    {
      "cell_type": "code",
      "metadata": {
        "id": "9O7RyVotlTLF",
        "colab": {
          "base_uri": "https://localhost:8080/",
          "height": 782
        },
        "outputId": "c8ee4380-0639-4030-8d8b-c4d64e2f0397"
      },
      "source": [
        "import numpy as np\n",
        "from sklearn.metrics import classification_report, confusion_matrix\n",
        "\n",
        "\n",
        "target_names = []\n",
        "\n",
        "for key in training_set.class_indices:\n",
        "\n",
        "    target_names.append(key)\n",
        "\n",
        "\n",
        "print(target_names)\n",
        "\n",
        "\n",
        "test_steps_per_epoch = np.math.ceil(test_set.samples / test_set.batch_size)\n",
        "\n",
        "Y_pred = model.predict(test_set, steps=test_steps_per_epoch)\n",
        "\n",
        "y_pred = np.argmax(Y_pred, axis=1)\n",
        "\n",
        "print('Confusion Matrix')\n",
        "\n",
        "cm = confusion_matrix(test_set.classes, y_pred)\n",
        "\n",
        "plot_confusion_matrix(cm, target_names, title='Confusion Matrix')"
      ],
      "execution_count": null,
      "outputs": [
        {
          "output_type": "stream",
          "text": [
            "['COVID19', 'NORMAL', 'PNEUMONIA']\n",
            "Confusion Matrix\n",
            "Normalized confusion matrix\n"
          ],
          "name": "stdout"
        },
        {
          "output_type": "display_data",
          "data": {
            "image/png": "[encoded data removed]",
            "text/plain": [
              "<Figure size 720x720 with 2 Axes>"
            ]
          },
          "metadata": {
            "needs_background": "light"
          }
        }
      ]
    },
    {
      "cell_type": "markdown",
      "metadata": {
        "id": "7s-YzfHepUkF"
      },
      "source": [
        "# Classification report"
      ]
    },
    {
      "cell_type": "code",
      "metadata": {
        "id": "R1KYS3NNl3ns"
      },
      "source": [
        "test_steps_per_epoch = np.math.ceil(test_set.samples / test_set.batch_size)\n",
        "\n",
        "predictions = model.predict(test_set, steps=test_steps_per_epoch)\n",
        "# Get most likely class\n",
        "predicted_classes = np.argmax(predictions, axis=-1)\n",
        "true_classes = test_set.classes\n",
        "class_labels = list(test_set.class_indices.keys())  "
      ],
      "execution_count": null,
      "outputs": []
    },
    {
      "cell_type": "code",
      "metadata": {
        "id": "Q1P7paBrmCoR",
        "colab": {
          "base_uri": "https://localhost:8080/"
        },
        "outputId": "bd0cb420-e38a-495f-e10c-fd0426a0f921"
      },
      "source": [
        "report = classification_report(true_classes, predicted_classes, target_names=class_labels)\n",
        "print(report) "
      ],
      "execution_count": null,
      "outputs": [
        {
          "output_type": "stream",
          "text": [
            "              precision    recall  f1-score   support\n",
            "\n",
            "     COVID19       1.00      0.91      0.95        23\n",
            "      NORMAL       0.86      0.84      0.85        64\n",
            "   PNEUMONIA       0.94      0.96      0.95       171\n",
            "\n",
            "    accuracy                           0.93       258\n",
            "   macro avg       0.93      0.91      0.92       258\n",
            "weighted avg       0.93      0.93      0.93       258\n",
            "\n"
          ],
          "name": "stdout"
        }
      ]
    },
    {
      "cell_type": "markdown",
      "metadata": {
        "id": "FbuKtoenmKKr"
      },
      "source": [
        "# Saving and Loading the model for prediction"
      ]
    },
    {
      "cell_type": "code",
      "metadata": {
        "id": "aNnXmRj-kB38"
      },
      "source": [
        "from keras.models import model_from_json\n",
        "from keras.models import load_model"
      ],
      "execution_count": null,
      "outputs": []
    },
    {
      "cell_type": "code",
      "metadata": {
        "id": "lwCa76NBgcM-"
      },
      "source": [
        "# serialize model to JSON\n",
        "model_json = model.to_json()\n",
        "with open(\"/content/best_Model_weights.json\", \"w\") as json_file:\n",
        "    json_file.write(model_json)"
      ],
      "execution_count": null,
      "outputs": []
    },
    {
      "cell_type": "code",
      "metadata": {
        "id": "zACrAM0hiHC8"
      },
      "source": [
        "# load json and create model\n",
        "json_file = open('/content/best_Model_weights.json', 'r')\n",
        "loaded_model_json = json_file.read()\n",
        "json_file.close()\n",
        "loaded_model = model_from_json(loaded_model_json)\n",
        "\n",
        "# load weights into new model\n",
        "loaded_model.load_weights('best_Model_weights.h5')"
      ],
      "execution_count": null,
      "outputs": []
    },
    {
      "cell_type": "code",
      "metadata": {
        "colab": {
          "base_uri": "https://localhost:8080/"
        },
        "id": "66O2NapO_4T-",
        "outputId": "876429db-38c1-476c-f58c-9a26e806cd0d"
      },
      "source": [
        "# evaluate loaded model on test data\n",
        "loaded_model.compile(loss='binary_crossentropy', optimizer='adam', metrics=['accuracy'])\n",
        "score = loaded_model.evaluate(test_set, verbose=0)\n",
        "print (\"%s: %.2f%%\" % (loaded_model.metrics_names[1], score[1]*100))"
      ],
      "execution_count": null,
      "outputs": [
        {
          "output_type": "stream",
          "text": [
            "accuracy: 95.74%\n"
          ],
          "name": "stdout"
        }
      ]
    },
    {
      "cell_type": "code",
      "metadata": {
        "id": "4X--CityAMlc"
      },
      "source": [
        "# from keras.models import model_from_json\n",
        "# from keras.models import load_model\n",
        "\n",
        "# # serialize model to JSON\n",
        "# model_json = model.to_json()\n",
        "# with open(\"best_Model_weights.json\", \"w\") as json_file:\n",
        "#     json_file.write(model_json)\n",
        "\n",
        "# # serialize weights to HDF5\n",
        "# model.save_weights(\"best_Model_weights.h5\")"
      ],
      "execution_count": null,
      "outputs": []
    },
    {
      "cell_type": "code",
      "metadata": {
        "id": "mdyjsFlOHYO3"
      },
      "source": [
        "# # load json and create model\n",
        "# json_file = open('best_Model_weights.json', 'r')\n",
        "# loaded_model_json = json_file.read()\n",
        "# json_file.close()\n",
        "# loaded_model = model_from_json(loaded_model_json)\n",
        "\n",
        "# # load weights into new model\n",
        "# loaded_model.load_weights(\"best_Model_weights.h5\")\n",
        "# print(\"Loaded model from disk\")\n",
        "\n",
        "# loaded_model.save('best_Model_weights.hdf5')\n",
        "# loaded_model=load_model('best_Model_weights.hdf5')"
      ],
      "execution_count": null,
      "outputs": []
    },
    {
      "cell_type": "markdown",
      "metadata": {
        "id": "oEDcky_Xpg0y"
      },
      "source": [
        "# Deploying the model to Predict a single sample."
      ]
    },
    {
      "cell_type": "code",
      "metadata": {
        "id": "2uNM2_ghcuSB"
      },
      "source": [
        "# from keras.preprocessing import image\n",
        "# img = image.load_img(\"......\",target_size=(224,224))\n",
        "# img = np.asarray(img)\n",
        "\n",
        "# img = np.expand_dims(img, axis=0)\n",
        "# loaded_model.predict(img)"
      ],
      "execution_count": null,
      "outputs": []
    },
    {
      "cell_type": "code",
      "metadata": {
        "id": "0FZHR1-VdWLu"
      },
      "source": [
        "import numpy as np\n",
        "from keras.preprocessing import image\n",
        "test_image = image.load_img('......', target_size = (224, 224))\n",
        "test_image = image.img_to_array(test_image)\n",
        "test_image = np.expand_dims(test_image, axis = 1)\n",
        "predicted_classes= np.argmax(loaded_model.predict(test_image), axis=1)\n",
        "\n",
        "result = loaded_model.predict(test_image)\n",
        "test_set.class_indices\n",
        "if result[0][0][0] == 1:\n",
        "  prediction = 'Normal'\n",
        "elif result[0][1][0] ==1:\n",
        "  prediction = 'COVID'\n",
        "else:\n",
        "  prediction = 'PNEUMONIA'"
      ],
      "execution_count": null,
      "outputs": []
    },
    {
      "cell_type": "code",
      "metadata": {
        "id": "fmNaif_idmpR"
      },
      "source": [
        "print(prediction)\n",
        "print(result)"
      ],
      "execution_count": null,
      "outputs": []
    },
    {
      "cell_type": "markdown",
      "metadata": {
        "id": "S-bSHVibm1dD"
      },
      "source": [
        "# the code for the 4-class dataset and its organization."
      ]
    },
    {
      "cell_type": "code",
      "metadata": {
        "id": "sD3Z1bSqZXIw"
      },
      "source": [
        "!kaggle datasets download -d pratik2901/multiclass-weather-dataset #4-class dataset\n",
        "mkdir destination2\n",
        "!unzip /content/multiclass-weather-dataset.zip -d destination2"
      ],
      "execution_count": null,
      "outputs": []
    },
    {
      "cell_type": "code",
      "metadata": {
        "id": "lisuU9GjZOSg"
      },
      "source": [
        "import os\n",
        "import numpy as np\n",
        "import shutil\n",
        "import random\n",
        "root_dir = '/content/destination2/Multi-class Weather Dataset/' # data root path\n",
        "classes_dir = ['Cloudy', 'Rain', 'Shine', 'Sunrise'] #total labels\n",
        "\n",
        "val_ratio = 0.15\n",
        "test_ratio = 0.05\n",
        "\n",
        "for cls in classes_dir:\n",
        "    os.makedirs(root_dir +'train/' + cls)\n",
        "    os.makedirs(root_dir +'val/' + cls)\n",
        "    os.makedirs(root_dir +'test/' + cls)\n",
        "\n",
        "    # Creating partitions of the data after shuffeling\n",
        "    src = root_dir + cls # Folder to copy images from\n",
        "\n",
        "    allFileNames = os.listdir(src)\n",
        "    np.random.shuffle(allFileNames)\n",
        "    train_FileNames, val_FileNames, test_FileNames = np.split(np.array(allFileNames),\n",
        "                                                          [int(len(allFileNames)* (1 - (val_ratio + test_ratio))), \n",
        "                                                           int(len(allFileNames)* (1 - test_ratio))])\n",
        "\n",
        "\n",
        "    train_FileNames = [src+'/'+ name for name in train_FileNames.tolist()]\n",
        "    val_FileNames = [src+'/' + name for name in val_FileNames.tolist()]\n",
        "    test_FileNames = [src+'/' + name for name in test_FileNames.tolist()]\n",
        "\n",
        "    print('Total images: ', len(allFileNames))\n",
        "    print('Training: ', len(train_FileNames))\n",
        "    print('Validation: ', len(val_FileNames))\n",
        "    print('Testing: ', len(test_FileNames))\n",
        "\n",
        "    # Copy-pasting images\n",
        "    for name in train_FileNames:\n",
        "      shutil.copy(name, root_dir +'train/' + cls)\n",
        "\n",
        "    for name in val_FileNames:\n",
        "      shutil.copy(name, root_dir +'val/' + cls)\n",
        "      \n",
        "    for name in test_FileNames:\n",
        "      shutil.copy(name, root_dir +'test/' + cls)"
      ],
      "execution_count": null,
      "outputs": []
    },
    {
      "cell_type": "code",
      "metadata": {
        "id": "SzqnBEViLlw4"
      },
      "source": [
        "train_datagen1 = ImageDataGenerator()\n",
        "training_set1 = train_datagen1.flow_from_directory('/content/destination2/Multi-class Weather Dataset/train',\n",
        "                                                 target_size = (224, 224), class_mode='categorical', batch_size=8\n",
        "                                                )"
      ],
      "execution_count": null,
      "outputs": []
    },
    {
      "cell_type": "code",
      "metadata": {
        "id": "cED3ss7ULzua"
      },
      "source": [
        "val_datagen1 = ImageDataGenerator()\n",
        "val_set1 = val_datagen1.flow_from_directory('/content/destination2/Multi-class Weather Dataset/val',\n",
        "                                            target_size = (224, 224), class_mode='categorical', batch_size=8\n",
        "                                           )"
      ],
      "execution_count": null,
      "outputs": []
    },
    {
      "cell_type": "code",
      "metadata": {
        "id": "hd1nOgvAwa_T"
      },
      "source": [
        "test_datagen1 = ImageDataGenerator()\n",
        "test_set1 = test_datagen1.flow_from_directory('/content/destination4/Multi-class Weather Dataset/test',\n",
        "                                            target_size = (224, 224), class_mode='categorical',batch_size=4\n",
        "                                           )"
      ],
      "execution_count": null,
      "outputs": []
    },
    {
      "cell_type": "code",
      "metadata": {
        "id": "V-0OBPI2wlrL"
      },
      "source": [
        "loaded_model.compile(optimizer=opt, loss=keras.losses.categorical_crossentropy, metrics=['accuracy'])"
      ],
      "execution_count": null,
      "outputs": []
    },
    {
      "cell_type": "code",
      "metadata": {
        "id": "hUJbpXlcNKYf"
      },
      "source": [
        "checkpoint_filepath = 'bff.h5'\n",
        "model_checkpoint_callback = keras.callbacks.ModelCheckpoint(checkpoint_filepath,save_best_only=True, monitor='val_accuracy')\n"
      ],
      "execution_count": null,
      "outputs": []
    },
    {
      "cell_type": "markdown",
      "metadata": {
        "id": "-jcjEh1YnMY-"
      },
      "source": [
        "# Training a model trainded on 3-class dataset on a 4-class dataset (still  being prepared and worked on)"
      ]
    },
    {
      "cell_type": "code",
      "metadata": {
        "id": "F16b5VSQNKfr"
      },
      "source": [
        "\n",
        "# results1 = loaded_model.fit(x=training_set1, validation_data= val_set1, epochs=40,callbacks=[model_checkpoint_callback])"
      ],
      "execution_count": null,
      "outputs": []
    }
  ]
}
