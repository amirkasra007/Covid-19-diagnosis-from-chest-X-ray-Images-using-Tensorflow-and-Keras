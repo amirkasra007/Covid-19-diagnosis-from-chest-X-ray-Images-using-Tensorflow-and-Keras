{
  "nbformat": 4,
  "nbformat_minor": 0,
  "metadata": {
    "colab": {
      "name": "Covid, phen, norm classification (95acc).ipynb",
      "provenance": [],
      "collapsed_sections": []
    },
    "kernelspec": {
      "display_name": "Python 3",
      "name": "python3"
    },
    "accelerator": "GPU"
  },
  "cells": [
    {
      "cell_type": "markdown",
      "metadata": {
        "id": "3DR-eO17geWu"
      },
      "source": [
        "# Kaggle prerequisites"
      ]
    },
    {
      "cell_type": "code",
      "metadata": {
        "colab": {
          "base_uri": "https://localhost:8080/"
        },
        "id": "VpvVMm6c2Hlp",
        "outputId": "c955d80f-ca53-4fec-e74a-dd6933ebcb1e"
      },
      "source": [
        "from google.colab import drive\n",
        "drive.mount('/content/drive')"
      ],
      "execution_count": null,
      "outputs": [
        {
          "output_type": "stream",
          "name": "stdout",
          "text": [
            "Mounted at /content/drive\n"
          ]
        }
      ]
    },
    {
      "cell_type": "code",
      "metadata": {
        "id": "CbNgVkStz5Ju"
      },
      "source": [
        "from google.colab import files\n",
        "files.upload()"
      ],
      "execution_count": null,
      "outputs": []
    },
    {
      "cell_type": "code",
      "metadata": {
        "id": "_OTA-8jZ0E1L"
      },
      "source": [
        "!pip install -q kaggle"
      ],
      "execution_count": null,
      "outputs": []
    },
    {
      "cell_type": "code",
      "metadata": {
        "id": "uHY6p34J0J4A"
      },
      "source": [
        "!mkdir -p ~/.kaggle\n",
        "!cp kaggle.json ~/.kaggle/"
      ],
      "execution_count": null,
      "outputs": []
    },
    {
      "cell_type": "code",
      "metadata": {
        "id": "11Ha86L4qTBH"
      },
      "source": [
        "!chmod 600 ~/.kaggle/kaggle.json"
      ],
      "execution_count": null,
      "outputs": []
    },
    {
      "cell_type": "markdown",
      "source": [
        "# Importing the libraries"
      ],
      "metadata": {
        "id": "SgWo8-0X9hwF"
      }
    },
    {
      "cell_type": "code",
      "source": [
        "import tensorflow as tf\n",
        "from keras.preprocessing.image import ImageDataGenerator\n",
        "import os\n",
        "import numpy as np\n",
        "import shutil\n",
        "import random\n",
        "import keras\n",
        "from keras.models import Sequential\n",
        "from keras.layers import Dense, Conv2D, MaxPool2D , Flatten\n",
        "from keras.callbacks import ModelCheckpoint, EarlyStopping\n",
        "\n",
        "from tensorflow.keras.models import Sequential\n",
        "from tensorflow.keras.layers import Dense, Dropout, Activation, Flatten, Conv2D, MaxPooling2D\n",
        "from tensorflow.keras import optimizers\n",
        "from tensorflow.keras import applications\n",
        "from keras.models import model_from_json\n",
        "\n",
        "import matplotlib.pyplot as plt\n",
        "import itertools\n",
        "from sklearn.metrics import classification_report, confusion_matrix\n",
        "\n",
        "from sklearn.metrics import accuracy_score\n",
        "\n",
        "from keras.preprocessing import image"
      ],
      "metadata": {
        "id": "aCrmWJw19P9d"
      },
      "execution_count": null,
      "outputs": []
    },
    {
      "cell_type": "markdown",
      "source": [
        "\n",
        "#Downloading and Unzipping the datasets"
      ],
      "metadata": {
        "id": "v4_FdYrQ8fnC"
      }
    },
    {
      "cell_type": "code",
      "metadata": {
        "colab": {
          "base_uri": "https://localhost:8080/"
        },
        "id": "am3r3g6G-yRb",
        "outputId": "7cea08ef-1471-4e86-bb1f-2d5a8bd92dc8"
      },
      "source": [
        "!kaggle datasets download -d prashant268/chest-xray-covid19-pneumonia"
      ],
      "execution_count": null,
      "outputs": [
        {
          "output_type": "stream",
          "name": "stdout",
          "text": [
            "Downloading chest-xray-covid19-pneumonia.zip to /content\n",
            "100% 2.05G/2.06G [00:08<00:00, 271MB/s]\n",
            "100% 2.06G/2.06G [00:08<00:00, 254MB/s]\n"
          ]
        }
      ]
    },
    {
      "cell_type": "code",
      "metadata": {
        "id": "QE2uyJfB6mep"
      },
      "source": [
        "!mkdir destination1"
      ],
      "execution_count": null,
      "outputs": []
    },
    {
      "cell_type": "code",
      "metadata": {
        "id": "yIc9n71c-3tg"
      },
      "source": [
        "!unzip /content/chest-xray-covid19-pneumonia.zip -d destination1"
      ],
      "execution_count": null,
      "outputs": []
    },
    {
      "cell_type": "markdown",
      "source": [
        "#Splitting into test, train and calidation sets"
      ],
      "metadata": {
        "id": "9uhBu2l48qDA"
      }
    },
    {
      "cell_type": "code",
      "source": [
        "make_dir ='/content/destination1/Data'\n",
        "root_dir = '/content/destination1/Data/train'\n",
        "classes_dir = ['COVID19','NORMAL','PNEUMONIA']\n",
        "\n",
        "val_ratio = 0.1\n",
        "\n",
        "for cls in classes_dir:\n",
        "\n",
        "  os.makedirs(make_dir +'/val/' + cls)\n",
        "\n",
        "\n",
        "    # Creating partitions of the data after shuffeling\n",
        "  src = root_dir + '/'+ cls # Folder to copy images from\n",
        "\n",
        "  allFileNames = os.listdir(src)\n",
        "  np.random.shuffle(allFileNames)\n",
        "  train_FileNames, val_FileNames = np.split(np.array(allFileNames),\n",
        "                                                              [int(len(allFileNames)* (1 - val_ratio))])\n",
        "\n",
        "\n",
        "  train_FileNames = [src+'/'+ name for name in train_FileNames.tolist()]\n",
        "  val_FileNames = [src+'/' + name for name in val_FileNames.tolist()]\n",
        "\n",
        "  print('Total images: ', len(allFileNames))\n",
        "  print('Training: ', len(train_FileNames))\n",
        "  print('Validation: ', len(val_FileNames))\n",
        "\n",
        "  # moving images\n",
        "\n",
        "  for name in val_FileNames:\n",
        "    shutil.move(name, make_dir +'/val/' + cls)\n"
      ],
      "metadata": {
        "colab": {
          "base_uri": "https://localhost:8080/"
        },
        "id": "In43sfpAbjpG",
        "outputId": "23bb0f51-b471-42c1-a6e7-8155c169648c"
      },
      "execution_count": null,
      "outputs": [
        {
          "output_type": "stream",
          "name": "stdout",
          "text": [
            "Total images:  460\n",
            "Training:  414\n",
            "Validation:  46\n",
            "Total images:  1266\n",
            "Training:  1139\n",
            "Validation:  127\n",
            "Total images:  3418\n",
            "Training:  3076\n",
            "Validation:  342\n"
          ]
        }
      ]
    },
    {
      "cell_type": "markdown",
      "source": [
        "#Image Augmentation and preprocessing"
      ],
      "metadata": {
        "id": "oo2vS4I78y_L"
      }
    },
    {
      "cell_type": "code",
      "metadata": {
        "colab": {
          "base_uri": "https://localhost:8080/"
        },
        "id": "542pN8RaNIdQ",
        "outputId": "ef7f2b50-6ee3-4dc9-a4c2-3eaa8b7ba8af"
      },
      "source": [
        "train_datagen = ImageDataGenerator(rescale = 1./255,\n",
        "                                   shear_range = 0.2,\n",
        "                                   zoom_range = 0.2,\n",
        "                                   horizontal_flip = True)\n",
        "training_set = train_datagen.flow_from_directory('/content/destination1/Data/train',\n",
        "                                                 target_size = (224, 224),\n",
        "                                                 batch_size = 32,\n",
        "                                                 class_mode = 'categorical')"
      ],
      "execution_count": null,
      "outputs": [
        {
          "output_type": "stream",
          "name": "stdout",
          "text": [
            "Found 4629 images belonging to 3 classes.\n"
          ]
        }
      ]
    },
    {
      "cell_type": "code",
      "metadata": {
        "colab": {
          "base_uri": "https://localhost:8080/"
        },
        "id": "Nck6F2SPNQs4",
        "outputId": "c3f1dc35-d043-45e1-84fd-ac3b286c8780"
      },
      "source": [
        "test_datagen = ImageDataGenerator(rescale = 1./255)\n",
        "test_set = test_datagen.flow_from_directory('/content/destination1/Data/val',\n",
        "                                            target_size = (224, 224),\n",
        "                                            batch_size = 8,\n",
        "                                            class_mode = 'categorical',\n",
        "                                            shuffle = False)"
      ],
      "execution_count": null,
      "outputs": [
        {
          "output_type": "stream",
          "name": "stdout",
          "text": [
            "Found 515 images belonging to 3 classes.\n"
          ]
        }
      ]
    },
    {
      "cell_type": "code",
      "metadata": {
        "colab": {
          "base_uri": "https://localhost:8080/"
        },
        "id": "Vtf8RfC8XMUZ",
        "outputId": "0065762b-803e-43c8-deb5-e0c321b993a5"
      },
      "source": [
        "val_datagen = ImageDataGenerator(rescale = 1./255)\n",
        "val_set = val_datagen.flow_from_directory('/content/destination1/Data/test',\n",
        "                                            target_size = (224, 224),\n",
        "                                            batch_size = 32,\n",
        "                                            class_mode = 'categorical')"
      ],
      "execution_count": null,
      "outputs": [
        {
          "output_type": "stream",
          "name": "stdout",
          "text": [
            "Found 1288 images belonging to 3 classes.\n"
          ]
        }
      ]
    },
    {
      "cell_type": "markdown",
      "metadata": {
        "id": "af8O4l90gk7B"
      },
      "source": [
        "# Building the CNN"
      ]
    },
    {
      "cell_type": "markdown",
      "metadata": {
        "id": "ces1gXY2lmoX"
      },
      "source": [
        "### Initialising the CNN"
      ]
    },
    {
      "cell_type": "code",
      "metadata": {
        "id": "wZnqjPkmgXWI"
      },
      "source": [
        "model = Sequential()\n",
        "\n",
        "model.add(Conv2D(input_shape=(224,224,3),filters=64,kernel_size=(3,3),padding=\"same\", activation=\"relu\"))\n",
        "\n",
        "model.add(Conv2D(filters=64,kernel_size=(3,3),padding=\"same\", activation=\"relu\"))\n",
        "\n",
        "model.add(MaxPool2D(pool_size=(2,2),strides=(2,2)))\n",
        "\n",
        "\n",
        "model.add(Conv2D(filters=128, kernel_size=(3,3), padding=\"same\", activation=\"relu\"))\n",
        "\n",
        "model.add(Conv2D(filters=128, kernel_size=(3,3), padding=\"same\", activation=\"relu\"))\n",
        "\n",
        "model.add(MaxPool2D(pool_size=(2,2),strides=(2,2)))\n",
        "\n",
        "\n",
        "model.add(Conv2D(filters=256, kernel_size=(3,3), padding=\"same\", activation=\"relu\"))\n",
        "\n",
        "model.add(Conv2D(filters=256, kernel_size=(3,3), padding=\"same\", activation=\"relu\"))\n",
        "\n",
        "model.add(MaxPool2D(pool_size=(2,2),strides=(2,2)))\n",
        "\n",
        "\n",
        "model.add(Conv2D(filters=512, kernel_size=(3,3), padding=\"same\", activation=\"relu\"))\n",
        "\n",
        "model.add(Conv2D(filters=512, kernel_size=(3,3), padding=\"same\", activation=\"relu\"))\n",
        "\n",
        "model.add(MaxPool2D(pool_size=(2,2),strides=(2,2)))\n"
      ],
      "execution_count": null,
      "outputs": []
    },
    {
      "cell_type": "code",
      "metadata": {
        "id": "b0-jTRaEgXe9"
      },
      "source": [
        "model.add(Flatten())\n",
        "model.add(Dense(units=512,activation=\"relu\"))\n",
        "model.add(Dense(units=1024,activation=\"relu\"))\n",
        "model.add(Dense(units=3, activation=\"softmax\"))"
      ],
      "execution_count": null,
      "outputs": []
    },
    {
      "cell_type": "code",
      "metadata": {
        "id": "oMI0KCnMgmcV"
      },
      "source": [
        "opt = tf.keras.optimizers.Adam(learning_rate=0.0001)"
      ],
      "execution_count": null,
      "outputs": []
    },
    {
      "cell_type": "code",
      "metadata": {
        "id": "m63iqRvtgmnD"
      },
      "source": [
        "model.compile(loss='categorical_crossentropy', optimizer=opt, metrics=['accuracy'])"
      ],
      "execution_count": null,
      "outputs": []
    },
    {
      "cell_type": "code",
      "metadata": {
        "id": "rSIIy57Dgr2-",
        "colab": {
          "base_uri": "https://localhost:8080/"
        },
        "outputId": "9bf44c69-7e9e-40e0-96ad-86889ee33fcb"
      },
      "source": [
        "model.summary()"
      ],
      "execution_count": null,
      "outputs": [
        {
          "output_type": "stream",
          "name": "stdout",
          "text": [
            "Model: \"sequential\"\n",
            "_________________________________________________________________\n",
            " Layer (type)                Output Shape              Param #   \n",
            "=================================================================\n",
            " conv2d (Conv2D)             (None, 224, 224, 64)      1792      \n",
            "                                                                 \n",
            " conv2d_1 (Conv2D)           (None, 224, 224, 64)      36928     \n",
            "                                                                 \n",
            " max_pooling2d (MaxPooling2D  (None, 112, 112, 64)     0         \n",
            " )                                                               \n",
            "                                                                 \n",
            " conv2d_2 (Conv2D)           (None, 112, 112, 128)     73856     \n",
            "                                                                 \n",
            " conv2d_3 (Conv2D)           (None, 112, 112, 128)     147584    \n",
            "                                                                 \n",
            " max_pooling2d_1 (MaxPooling  (None, 56, 56, 128)      0         \n",
            " 2D)                                                             \n",
            "                                                                 \n",
            " conv2d_4 (Conv2D)           (None, 56, 56, 256)       295168    \n",
            "                                                                 \n",
            " conv2d_5 (Conv2D)           (None, 56, 56, 256)       590080    \n",
            "                                                                 \n",
            " max_pooling2d_2 (MaxPooling  (None, 28, 28, 256)      0         \n",
            " 2D)                                                             \n",
            "                                                                 \n",
            " conv2d_6 (Conv2D)           (None, 28, 28, 512)       1180160   \n",
            "                                                                 \n",
            " conv2d_7 (Conv2D)           (None, 28, 28, 512)       2359808   \n",
            "                                                                 \n",
            " max_pooling2d_3 (MaxPooling  (None, 14, 14, 512)      0         \n",
            " 2D)                                                             \n",
            "                                                                 \n",
            " flatten (Flatten)           (None, 100352)            0         \n",
            "                                                                 \n",
            " dense (Dense)               (None, 512)               51380736  \n",
            "                                                                 \n",
            " dense_1 (Dense)             (None, 1024)              525312    \n",
            "                                                                 \n",
            " dense_2 (Dense)             (None, 3)                 3075      \n",
            "                                                                 \n",
            "=================================================================\n",
            "Total params: 56,594,499\n",
            "Trainable params: 56,594,499\n",
            "Non-trainable params: 0\n",
            "_________________________________________________________________\n"
          ]
        }
      ]
    },
    {
      "cell_type": "code",
      "metadata": {
        "id": "UWdJNb1MgwDp"
      },
      "source": [
        "filepath = '/content/best_Model_weights.h5'\n",
        "\n",
        "checkpoint = ModelCheckpoint(filepath, monitor='val_accuracy', verbose=1, save_best_only=True, mode='max')\n",
        "# early = EarlyStopping(monitor='val_accuracy', min_delta=0, patience=20, mode='auto')"
      ],
      "execution_count": null,
      "outputs": []
    },
    {
      "cell_type": "code",
      "metadata": {
        "colab": {
          "base_uri": "https://localhost:8080/"
        },
        "id": "7tImxanHgwLz",
        "outputId": "279bc8b1-da21-436d-f9a8-98af75df3815"
      },
      "source": [
        "results = model.fit(x=training_set, validation_data= val_set, epochs=20,callbacks=checkpoint)"
      ],
      "execution_count": null,
      "outputs": [
        {
          "output_type": "stream",
          "name": "stdout",
          "text": [
            "Epoch 1/20\n",
            "145/145 [==============================] - ETA: 0s - loss: 0.5398 - accuracy: 0.7829\n",
            "Epoch 1: val_accuracy improved from -inf to 0.91615, saving model to /content/best_Model_weights.h5\n",
            "145/145 [==============================] - 200s 1s/step - loss: 0.5398 - accuracy: 0.7829 - val_loss: 0.2208 - val_accuracy: 0.9161\n",
            "Epoch 2/20\n",
            "145/145 [==============================] - ETA: 0s - loss: 0.3020 - accuracy: 0.8864\n",
            "Epoch 2: val_accuracy improved from 0.91615 to 0.92391, saving model to /content/best_Model_weights.h5\n",
            "145/145 [==============================] - 183s 1s/step - loss: 0.3020 - accuracy: 0.8864 - val_loss: 0.2265 - val_accuracy: 0.9239\n",
            "Epoch 3/20\n",
            "145/145 [==============================] - ETA: 0s - loss: 0.2719 - accuracy: 0.9013\n",
            "Epoch 3: val_accuracy did not improve from 0.92391\n",
            "145/145 [==============================] - 177s 1s/step - loss: 0.2719 - accuracy: 0.9013 - val_loss: 0.2152 - val_accuracy: 0.9177\n",
            "Epoch 4/20\n",
            "145/145 [==============================] - ETA: 0s - loss: 0.2546 - accuracy: 0.9071\n",
            "Epoch 4: val_accuracy did not improve from 0.92391\n",
            "145/145 [==============================] - 176s 1s/step - loss: 0.2546 - accuracy: 0.9071 - val_loss: 0.2375 - val_accuracy: 0.9037\n",
            "Epoch 5/20\n",
            "145/145 [==============================] - ETA: 0s - loss: 0.2109 - accuracy: 0.9177\n",
            "Epoch 5: val_accuracy improved from 0.92391 to 0.93323, saving model to /content/best_Model_weights.h5\n",
            "145/145 [==============================] - 178s 1s/step - loss: 0.2109 - accuracy: 0.9177 - val_loss: 0.1934 - val_accuracy: 0.9332\n",
            "Epoch 6/20\n",
            "145/145 [==============================] - ETA: 0s - loss: 0.2014 - accuracy: 0.9237\n",
            "Epoch 6: val_accuracy improved from 0.93323 to 0.93634, saving model to /content/best_Model_weights.h5\n",
            "145/145 [==============================] - 200s 1s/step - loss: 0.2014 - accuracy: 0.9237 - val_loss: 0.1647 - val_accuracy: 0.9363\n",
            "Epoch 7/20\n",
            "145/145 [==============================] - ETA: 0s - loss: 0.1829 - accuracy: 0.9341\n",
            "Epoch 7: val_accuracy did not improve from 0.93634\n",
            "145/145 [==============================] - 188s 1s/step - loss: 0.1829 - accuracy: 0.9341 - val_loss: 0.1900 - val_accuracy: 0.9356\n",
            "Epoch 8/20\n",
            "145/145 [==============================] - ETA: 0s - loss: 0.1670 - accuracy: 0.9382\n",
            "Epoch 8: val_accuracy improved from 0.93634 to 0.94565, saving model to /content/best_Model_weights.h5\n",
            "145/145 [==============================] - 180s 1s/step - loss: 0.1670 - accuracy: 0.9382 - val_loss: 0.1402 - val_accuracy: 0.9457\n",
            "Epoch 9/20\n",
            "145/145 [==============================] - ETA: 0s - loss: 0.1583 - accuracy: 0.9423\n",
            "Epoch 9: val_accuracy did not improve from 0.94565\n",
            "145/145 [==============================] - 177s 1s/step - loss: 0.1583 - accuracy: 0.9423 - val_loss: 0.2785 - val_accuracy: 0.9006\n",
            "Epoch 10/20\n",
            "145/145 [==============================] - ETA: 0s - loss: 0.1483 - accuracy: 0.9453\n",
            "Epoch 10: val_accuracy did not improve from 0.94565\n",
            "145/145 [==============================] - 179s 1s/step - loss: 0.1483 - accuracy: 0.9453 - val_loss: 0.1891 - val_accuracy: 0.9348\n",
            "Epoch 11/20\n",
            "145/145 [==============================] - ETA: 0s - loss: 0.1386 - accuracy: 0.9494\n",
            "Epoch 11: val_accuracy did not improve from 0.94565\n",
            "145/145 [==============================] - 177s 1s/step - loss: 0.1386 - accuracy: 0.9494 - val_loss: 0.1931 - val_accuracy: 0.9286\n",
            "Epoch 12/20\n",
            "145/145 [==============================] - ETA: 0s - loss: 0.1446 - accuracy: 0.9501\n",
            "Epoch 12: val_accuracy did not improve from 0.94565\n",
            "145/145 [==============================] - 176s 1s/step - loss: 0.1446 - accuracy: 0.9501 - val_loss: 0.1605 - val_accuracy: 0.9418\n",
            "Epoch 13/20\n",
            "145/145 [==============================] - ETA: 0s - loss: 0.1388 - accuracy: 0.9497\n",
            "Epoch 13: val_accuracy did not improve from 0.94565\n",
            "145/145 [==============================] - 176s 1s/step - loss: 0.1388 - accuracy: 0.9497 - val_loss: 0.1960 - val_accuracy: 0.9301\n",
            "Epoch 14/20\n",
            "145/145 [==============================] - ETA: 0s - loss: 0.1367 - accuracy: 0.9512\n",
            "Epoch 14: val_accuracy improved from 0.94565 to 0.94720, saving model to /content/best_Model_weights.h5\n",
            "145/145 [==============================] - 196s 1s/step - loss: 0.1367 - accuracy: 0.9512 - val_loss: 0.1499 - val_accuracy: 0.9472\n",
            "Epoch 15/20\n",
            "145/145 [==============================] - ETA: 0s - loss: 0.1161 - accuracy: 0.9574\n",
            "Epoch 15: val_accuracy did not improve from 0.94720\n",
            "145/145 [==============================] - 177s 1s/step - loss: 0.1161 - accuracy: 0.9574 - val_loss: 0.1901 - val_accuracy: 0.9363\n",
            "Epoch 16/20\n",
            "145/145 [==============================] - ETA: 0s - loss: 0.1190 - accuracy: 0.9561\n",
            "Epoch 16: val_accuracy did not improve from 0.94720\n",
            "145/145 [==============================] - 176s 1s/step - loss: 0.1190 - accuracy: 0.9561 - val_loss: 0.1736 - val_accuracy: 0.9394\n",
            "Epoch 17/20\n",
            "145/145 [==============================] - ETA: 0s - loss: 0.1075 - accuracy: 0.9618\n",
            "Epoch 17: val_accuracy did not improve from 0.94720\n",
            "145/145 [==============================] - 175s 1s/step - loss: 0.1075 - accuracy: 0.9618 - val_loss: 0.1616 - val_accuracy: 0.9410\n",
            "Epoch 18/20\n",
            "145/145 [==============================] - ETA: 0s - loss: 0.1148 - accuracy: 0.9555\n",
            "Epoch 18: val_accuracy did not improve from 0.94720\n",
            "145/145 [==============================] - 175s 1s/step - loss: 0.1148 - accuracy: 0.9555 - val_loss: 0.1650 - val_accuracy: 0.9363\n",
            "Epoch 19/20\n",
            "145/145 [==============================] - ETA: 0s - loss: 0.1038 - accuracy: 0.9626\n",
            "Epoch 19: val_accuracy improved from 0.94720 to 0.95497, saving model to /content/best_Model_weights.h5\n",
            "145/145 [==============================] - 177s 1s/step - loss: 0.1038 - accuracy: 0.9626 - val_loss: 0.1336 - val_accuracy: 0.9550\n",
            "Epoch 20/20\n",
            "145/145 [==============================] - ETA: 0s - loss: 0.0992 - accuracy: 0.9648\n",
            "Epoch 20: val_accuracy did not improve from 0.95497\n",
            "145/145 [==============================] - 174s 1s/step - loss: 0.0992 - accuracy: 0.9648 - val_loss: 0.1496 - val_accuracy: 0.9441\n"
          ]
        }
      ]
    },
    {
      "cell_type": "markdown",
      "source": [
        "#Acc and Loss Plots"
      ],
      "metadata": {
        "id": "m4nOklI17Iqi"
      }
    },
    {
      "cell_type": "code",
      "source": [
        "plt.plot(results.history[\"accuracy\"])\n",
        "plt.plot(results.history['val_accuracy'])\n",
        "plt.plot(results.history['loss'])\n",
        "plt.plot(results.history['val_loss'])\n",
        "plt.title(\"model accuracy\")\n",
        "plt.ylabel(\"Accuracy\")\n",
        "plt.xlabel(\"Epoch\")\n",
        "plt.legend([\"Accuracy\",\"Validation Accuracy\",\"loss\",\"Validation Loss\"])\n",
        "plt.show()"
      ],
      "metadata": {
        "colab": {
          "base_uri": "https://localhost:8080/",
          "height": 295
        },
        "id": "vP-HSBxOs3Pk",
        "outputId": "c35229d8-0cf3-4f1d-aea7-1e92c904ddf0"
      },
      "execution_count": null,
      "outputs": [
        {
          "output_type": "display_data",
          "data": {
            "text/plain": [
              "<Figure size 432x288 with 1 Axes>"
            ],
            "image/png": "[encoded data removed]"
          },
          "metadata": {
            "needs_background": "light"
          }
        }
      ]
    },
    {
      "cell_type": "markdown",
      "source": [
        "#Grphical Conusion Matrix"
      ],
      "metadata": {
        "id": "h7GDy6fl7Q2l"
      }
    },
    {
      "cell_type": "code",
      "metadata": {
        "id": "dn0KB2SXvGD4"
      },
      "source": [
        "def plot_confusion_matrix(cm, classes, normalize=True, title='Confusion matrix', cmap=plt.cm.Blues):\n",
        "\n",
        "    \"\"\"\n",
        "    This function prints and plots the confusion matrix.\n",
        "    Normalization can be applied by setting `normalize=True`.\n",
        "    \"\"\"\n",
        "    plt.figure(figsize=(10,10))\n",
        "    plt.imshow(cm, interpolation='nearest', cmap=cmap)\n",
        "    plt.title(title)\n",
        "    plt.colorbar()\n",
        "\n",
        "    tick_marks = np.arange(len(classes))\n",
        "    plt.xticks(tick_marks, classes, rotation=45)\n",
        "    plt.yticks(tick_marks, classes)\n",
        "\n",
        "    if normalize:\n",
        "        cm = cm.astype('float') / cm.sum(axis=1)[:, np.newaxis]\n",
        "        cm = np.around(cm, decimals=2)\n",
        "        cm[np.isnan(cm)] = 0.0\n",
        "        print(\"Normalized confusion matrix\")\n",
        "    else:\n",
        "        print('Confusion matrix, without normalization')\n",
        "\n",
        "    thresh = cm.max() / 2.\n",
        "    for i, j in itertools.product(range(cm.shape[0]), range(cm.shape[1])):\n",
        "        plt.text(j, i, cm[i, j],\n",
        "                 horizontalalignment=\"center\",\n",
        "                 color=\"white\" if cm[i, j] > thresh else \"black\")\n",
        "        \n",
        "    plt.tight_layout()\n",
        "    plt.ylabel('True label')\n",
        "    plt.xlabel('Predicted label')"
      ],
      "execution_count": null,
      "outputs": []
    },
    {
      "cell_type": "code",
      "metadata": {
        "colab": {
          "base_uri": "https://localhost:8080/",
          "height": 828
        },
        "id": "nVfxST3Btj2X",
        "outputId": "b082bdfc-232b-4ad7-f731-52c4c5c14160"
      },
      "source": [
        "target_names = []\n",
        "for key in training_set.class_indices:\n",
        "    target_names.append(key)\n",
        "\n",
        "print(target_names)\n",
        "Y_pred = model.predict_generator(test_set)\n",
        "y_pred = np.argmax(Y_pred, axis=1)\n",
        "print('Confusion Matrix')\n",
        "\n",
        "cm = confusion_matrix(test_set.classes, y_pred)\n",
        "plot_confusion_matrix(cm, target_names, title='Confusion Matrix')"
      ],
      "execution_count": null,
      "outputs": [
        {
          "output_type": "stream",
          "name": "stdout",
          "text": [
            "['COVID19', 'NORMAL', 'PNEUMONIA']\n"
          ]
        },
        {
          "output_type": "stream",
          "name": "stderr",
          "text": [
            "/usr/local/lib/python3.7/dist-packages/ipykernel_launcher.py:9: UserWarning: `Model.predict_generator` is deprecated and will be removed in a future version. Please use `Model.predict`, which supports generators.\n",
            "  if __name__ == '__main__':\n"
          ]
        },
        {
          "output_type": "stream",
          "name": "stdout",
          "text": [
            "Confusion Matrix\n",
            "Normalized confusion matrix\n"
          ]
        },
        {
          "output_type": "display_data",
          "data": {
            "text/plain": [
              "<Figure size 720x720 with 2 Axes>"
            ],
            "image/png": "[encoded data removed]"
          },
          "metadata": {
            "needs_background": "light"
          }
        }
      ]
    },
    {
      "cell_type": "code",
      "metadata": {
        "colab": {
          "base_uri": "https://localhost:8080/"
        },
        "id": "pLasfPYRv5bW",
        "outputId": "724e6d03-1235-455d-fe4d-42f4fd71c388"
      },
      "source": [
        "Y_pred"
      ],
      "execution_count": null,
      "outputs": [
        {
          "output_type": "execute_result",
          "data": {
            "text/plain": [
              "array([[9.9778336e-01, 1.0386487e-03, 1.1780311e-03],\n",
              "       [4.2474377e-01, 1.4697751e-02, 5.6055850e-01],\n",
              "       [9.9907446e-01, 7.8825012e-04, 1.3732204e-04],\n",
              "       ...,\n",
              "       [1.9547067e-04, 1.8808758e-02, 9.8099583e-01],\n",
              "       [2.5146347e-04, 8.8566735e-02, 9.1118175e-01],\n",
              "       [1.2165539e-06, 3.0274901e-03, 9.9697125e-01]], dtype=float32)"
            ]
          },
          "metadata": {},
          "execution_count": 32
        }
      ]
    },
    {
      "cell_type": "code",
      "source": [
        "cm"
      ],
      "metadata": {
        "colab": {
          "base_uri": "https://localhost:8080/"
        },
        "id": "K2mJ6JHIzmDe",
        "outputId": "4c6991f1-f023-4a20-83d1-97a4af9d17fa"
      },
      "execution_count": null,
      "outputs": [
        {
          "output_type": "execute_result",
          "data": {
            "text/plain": [
              "array([[ 41,   1,   4],\n",
              "       [  1, 118,   8],\n",
              "       [  3,  10, 329]])"
            ]
          },
          "metadata": {},
          "execution_count": 40
        }
      ]
    },
    {
      "cell_type": "code",
      "source": [
        "y_pred"
      ],
      "metadata": {
        "colab": {
          "base_uri": "https://localhost:8080/"
        },
        "id": "gq6B50i3y1k0",
        "outputId": "f290436c-5944-48dd-fe6c-f00d9a68437b"
      },
      "execution_count": null,
      "outputs": [
        {
          "output_type": "execute_result",
          "data": {
            "text/plain": [
              "array([0, 2, 0, 0, 0, 0, 0, 0, 0, 0, 0, 0, 0, 0, 0, 0, 0, 0, 0, 0, 0, 0,\n",
              "       0, 0, 0, 0, 0, 0, 0, 0, 0, 0, 0, 0, 2, 0, 0, 0, 0, 0, 1, 2, 0, 2,\n",
              "       0, 0, 1, 1, 1, 1, 1, 1, 1, 1, 1, 1, 1, 1, 2, 1, 1, 1, 1, 1, 1, 1,\n",
              "       1, 1, 1, 1, 1, 1, 1, 1, 1, 1, 2, 1, 1, 1, 1, 1, 1, 1, 1, 1, 1, 1,\n",
              "       1, 1, 1, 1, 1, 1, 1, 1, 1, 1, 1, 1, 1, 1, 1, 1, 1, 1, 1, 1, 1, 1,\n",
              "       1, 1, 1, 2, 1, 1, 1, 1, 1, 1, 1, 1, 1, 1, 1, 1, 1, 1, 1, 1, 1, 1,\n",
              "       2, 0, 1, 1, 1, 1, 1, 1, 1, 1, 1, 2, 2, 1, 1, 1, 1, 1, 1, 2, 1, 2,\n",
              "       1, 1, 1, 1, 1, 1, 1, 1, 1, 1, 1, 1, 1, 1, 1, 1, 1, 1, 1, 2, 2, 2,\n",
              "       2, 2, 2, 2, 2, 2, 2, 2, 2, 2, 1, 2, 2, 2, 2, 2, 2, 2, 2, 2, 2, 2,\n",
              "       1, 2, 2, 2, 2, 2, 2, 2, 2, 2, 2, 2, 2, 2, 2, 2, 2, 2, 2, 2, 2, 2,\n",
              "       2, 2, 2, 2, 2, 2, 2, 2, 2, 2, 2, 2, 2, 2, 2, 2, 2, 2, 2, 2, 2, 2,\n",
              "       2, 2, 2, 2, 2, 2, 2, 2, 2, 2, 2, 2, 2, 2, 2, 2, 2, 2, 2, 2, 2, 2,\n",
              "       2, 2, 2, 2, 2, 2, 0, 2, 2, 2, 2, 2, 2, 2, 2, 2, 2, 2, 2, 2, 2, 2,\n",
              "       2, 2, 1, 1, 2, 0, 2, 2, 2, 2, 2, 2, 2, 2, 0, 2, 2, 2, 2, 2, 2, 2,\n",
              "       2, 2, 2, 2, 2, 2, 2, 2, 2, 2, 2, 2, 1, 1, 2, 2, 2, 2, 2, 2, 2, 2,\n",
              "       2, 2, 2, 2, 2, 2, 2, 2, 2, 2, 2, 2, 2, 1, 2, 2, 2, 2, 2, 2, 2, 2,\n",
              "       2, 2, 2, 2, 2, 2, 1, 2, 2, 2, 2, 2, 2, 2, 2, 2, 2, 2, 2, 2, 2, 2,\n",
              "       2, 2, 2, 2, 2, 2, 2, 2, 2, 2, 2, 2, 2, 2, 2, 2, 2, 2, 2, 2, 2, 2,\n",
              "       2, 2, 2, 2, 2, 2, 2, 2, 2, 2, 2, 2, 2, 2, 2, 2, 2, 2, 2, 2, 2, 2,\n",
              "       2, 2, 2, 2, 2, 2, 2, 2, 2, 2, 2, 2, 2, 2, 2, 2, 2, 2, 2, 2, 2, 2,\n",
              "       1, 2, 2, 2, 2, 2, 2, 2, 2, 2, 2, 2, 2, 2, 2, 2, 2, 2, 2, 2, 2, 2,\n",
              "       2, 2, 2, 2, 2, 2, 2, 2, 2, 2, 2, 2, 2, 2, 2, 2, 2, 2, 2, 2, 2, 2,\n",
              "       2, 2, 2, 2, 1, 2, 2, 2, 2, 2, 2, 2, 2, 2, 2, 2, 2, 2, 2, 2, 2, 2,\n",
              "       2, 2, 2, 2, 2, 2, 2, 2, 2])"
            ]
          },
          "metadata": {},
          "execution_count": 33
        }
      ]
    },
    {
      "cell_type": "markdown",
      "source": [
        "#Classification Report"
      ],
      "metadata": {
        "id": "Bx72yW827XO8"
      }
    },
    {
      "cell_type": "code",
      "source": [
        "test_steps_per_epoch = np.math.ceil(test_set.samples / test_set.batch_size)\n",
        "\n",
        "predictions = model.predict(test_set, steps=test_steps_per_epoch)\n",
        "# Get most likely class\n",
        "predicted_classes = np.argmax(predictions, axis=1)"
      ],
      "metadata": {
        "id": "_Iom08EJzYcA"
      },
      "execution_count": null,
      "outputs": []
    },
    {
      "cell_type": "code",
      "metadata": {
        "id": "KSnPFg3plcui"
      },
      "source": [
        "class_labels = list(test_set.class_indices.keys())   "
      ],
      "execution_count": null,
      "outputs": []
    },
    {
      "cell_type": "code",
      "metadata": {
        "colab": {
          "base_uri": "https://localhost:8080/"
        },
        "id": "6ePHGeYvA8mM",
        "outputId": "adbacbd4-9237-4f2f-e593-cbe72c84cf22"
      },
      "source": [
        "confusion_matrix(test_set.classes, predicted_classes)"
      ],
      "execution_count": null,
      "outputs": [
        {
          "output_type": "execute_result",
          "data": {
            "text/plain": [
              "array([[ 41,   1,   4],\n",
              "       [  1, 118,   8],\n",
              "       [  3,  10, 329]])"
            ]
          },
          "metadata": {},
          "execution_count": 39
        }
      ]
    },
    {
      "cell_type": "code",
      "source": [
        "predictions"
      ],
      "metadata": {
        "colab": {
          "base_uri": "https://localhost:8080/"
        },
        "id": "y6LYuwE6zvth",
        "outputId": "30d04d04-92a6-4876-f6f6-ee022c855dea"
      },
      "execution_count": null,
      "outputs": [
        {
          "output_type": "execute_result",
          "data": {
            "text/plain": [
              "array([[9.9778336e-01, 1.0386487e-03, 1.1780311e-03],\n",
              "       [4.2474377e-01, 1.4697751e-02, 5.6055850e-01],\n",
              "       [9.9907446e-01, 7.8825012e-04, 1.3732204e-04],\n",
              "       ...,\n",
              "       [1.9547067e-04, 1.8808758e-02, 9.8099583e-01],\n",
              "       [2.5146347e-04, 8.8566735e-02, 9.1118175e-01],\n",
              "       [1.2165539e-06, 3.0274901e-03, 9.9697125e-01]], dtype=float32)"
            ]
          },
          "metadata": {},
          "execution_count": 41
        }
      ]
    },
    {
      "cell_type": "code",
      "source": [
        "predicted_classes"
      ],
      "metadata": {
        "colab": {
          "base_uri": "https://localhost:8080/"
        },
        "id": "wzyiJyNI0mt_",
        "outputId": "fa4911aa-366a-41ae-809c-9a18477acc4b"
      },
      "execution_count": null,
      "outputs": [
        {
          "output_type": "execute_result",
          "data": {
            "text/plain": [
              "array([0, 2, 0, 0, 0, 0, 0, 0, 0, 0, 0, 0, 0, 0, 0, 0, 0, 0, 0, 0, 0, 0,\n",
              "       0, 0, 0, 0, 0, 0, 0, 0, 0, 0, 0, 0, 2, 0, 0, 0, 0, 0, 1, 2, 0, 2,\n",
              "       0, 0, 1, 1, 1, 1, 1, 1, 1, 1, 1, 1, 1, 1, 2, 1, 1, 1, 1, 1, 1, 1,\n",
              "       1, 1, 1, 1, 1, 1, 1, 1, 1, 1, 2, 1, 1, 1, 1, 1, 1, 1, 1, 1, 1, 1,\n",
              "       1, 1, 1, 1, 1, 1, 1, 1, 1, 1, 1, 1, 1, 1, 1, 1, 1, 1, 1, 1, 1, 1,\n",
              "       1, 1, 1, 2, 1, 1, 1, 1, 1, 1, 1, 1, 1, 1, 1, 1, 1, 1, 1, 1, 1, 1,\n",
              "       2, 0, 1, 1, 1, 1, 1, 1, 1, 1, 1, 2, 2, 1, 1, 1, 1, 1, 1, 2, 1, 2,\n",
              "       1, 1, 1, 1, 1, 1, 1, 1, 1, 1, 1, 1, 1, 1, 1, 1, 1, 1, 1, 2, 2, 2,\n",
              "       2, 2, 2, 2, 2, 2, 2, 2, 2, 2, 1, 2, 2, 2, 2, 2, 2, 2, 2, 2, 2, 2,\n",
              "       1, 2, 2, 2, 2, 2, 2, 2, 2, 2, 2, 2, 2, 2, 2, 2, 2, 2, 2, 2, 2, 2,\n",
              "       2, 2, 2, 2, 2, 2, 2, 2, 2, 2, 2, 2, 2, 2, 2, 2, 2, 2, 2, 2, 2, 2,\n",
              "       2, 2, 2, 2, 2, 2, 2, 2, 2, 2, 2, 2, 2, 2, 2, 2, 2, 2, 2, 2, 2, 2,\n",
              "       2, 2, 2, 2, 2, 2, 0, 2, 2, 2, 2, 2, 2, 2, 2, 2, 2, 2, 2, 2, 2, 2,\n",
              "       2, 2, 1, 1, 2, 0, 2, 2, 2, 2, 2, 2, 2, 2, 0, 2, 2, 2, 2, 2, 2, 2,\n",
              "       2, 2, 2, 2, 2, 2, 2, 2, 2, 2, 2, 2, 1, 1, 2, 2, 2, 2, 2, 2, 2, 2,\n",
              "       2, 2, 2, 2, 2, 2, 2, 2, 2, 2, 2, 2, 2, 1, 2, 2, 2, 2, 2, 2, 2, 2,\n",
              "       2, 2, 2, 2, 2, 2, 1, 2, 2, 2, 2, 2, 2, 2, 2, 2, 2, 2, 2, 2, 2, 2,\n",
              "       2, 2, 2, 2, 2, 2, 2, 2, 2, 2, 2, 2, 2, 2, 2, 2, 2, 2, 2, 2, 2, 2,\n",
              "       2, 2, 2, 2, 2, 2, 2, 2, 2, 2, 2, 2, 2, 2, 2, 2, 2, 2, 2, 2, 2, 2,\n",
              "       2, 2, 2, 2, 2, 2, 2, 2, 2, 2, 2, 2, 2, 2, 2, 2, 2, 2, 2, 2, 2, 2,\n",
              "       1, 2, 2, 2, 2, 2, 2, 2, 2, 2, 2, 2, 2, 2, 2, 2, 2, 2, 2, 2, 2, 2,\n",
              "       2, 2, 2, 2, 2, 2, 2, 2, 2, 2, 2, 2, 2, 2, 2, 2, 2, 2, 2, 2, 2, 2,\n",
              "       2, 2, 2, 2, 1, 2, 2, 2, 2, 2, 2, 2, 2, 2, 2, 2, 2, 2, 2, 2, 2, 2,\n",
              "       2, 2, 2, 2, 2, 2, 2, 2, 2])"
            ]
          },
          "metadata": {},
          "execution_count": 53
        }
      ]
    },
    {
      "cell_type": "code",
      "source": [
        "print(np.trace(confusion_matrix(test_set.classes, predicted_classes)))\n",
        "accuracy_score(test_set.classes, predicted_classes)"
      ],
      "metadata": {
        "colab": {
          "base_uri": "https://localhost:8080/"
        },
        "id": "LRIGtjwb0xhb",
        "outputId": "13230389-d29a-4b92-97c0-e1fde19bd67f"
      },
      "execution_count": null,
      "outputs": [
        {
          "output_type": "stream",
          "name": "stdout",
          "text": [
            "488\n"
          ]
        },
        {
          "output_type": "execute_result",
          "data": {
            "text/plain": [
              "0.9475728155339805"
            ]
          },
          "metadata": {},
          "execution_count": 47
        }
      ]
    },
    {
      "cell_type": "code",
      "metadata": {
        "colab": {
          "base_uri": "https://localhost:8080/"
        },
        "id": "q8_TffVylojn",
        "outputId": "ff59f02d-dc4f-4a5c-ef69-2992905e684d"
      },
      "source": [
        "print('Classification Report: ')\n",
        "report = classification_report(test_set.classes, predicted_classes, target_names=class_labels)\n",
        "print(report) "
      ],
      "execution_count": null,
      "outputs": [
        {
          "output_type": "stream",
          "name": "stdout",
          "text": [
            "Classification Report: \n",
            "              precision    recall  f1-score   support\n",
            "\n",
            "     COVID19       0.91      0.89      0.90        46\n",
            "      NORMAL       0.91      0.93      0.92       127\n",
            "   PNEUMONIA       0.96      0.96      0.96       342\n",
            "\n",
            "    accuracy                           0.95       515\n",
            "   macro avg       0.93      0.93      0.93       515\n",
            "weighted avg       0.95      0.95      0.95       515\n",
            "\n"
          ]
        }
      ]
    },
    {
      "cell_type": "code",
      "source": [
        "training_set.class_indices"
      ],
      "metadata": {
        "colab": {
          "base_uri": "https://localhost:8080/"
        },
        "id": "6hmpKapf1L5U",
        "outputId": "c49e34a4-d4fd-4630-87da-9a01fbb81849"
      },
      "execution_count": null,
      "outputs": [
        {
          "output_type": "execute_result",
          "data": {
            "text/plain": [
              "{'COVID19': 0, 'NORMAL': 1, 'PNEUMONIA': 2}"
            ]
          },
          "metadata": {},
          "execution_count": 48
        }
      ]
    },
    {
      "cell_type": "code",
      "source": [
        "# evaluate the model on test data\n",
        "score = model.evaluate(test_set, verbose=2)\n",
        "print (\"%s: %.2f%%\" % (model.metrics_names[1], score[1]*100))"
      ],
      "metadata": {
        "colab": {
          "base_uri": "https://localhost:8080/"
        },
        "id": "VQDs04af4mlS",
        "outputId": "af8b0db5-9c4e-4524-8004-ad32d4381263"
      },
      "execution_count": null,
      "outputs": [
        {
          "output_type": "stream",
          "name": "stdout",
          "text": [
            "65/65 - 13s - loss: 0.1287 - accuracy: 0.9476 - 13s/epoch - 194ms/step\n",
            "accuracy: 94.76%\n"
          ]
        }
      ]
    },
    {
      "cell_type": "markdown",
      "metadata": {
        "id": "U3PZasO0006Z"
      },
      "source": [
        "# Making a single prediction"
      ]
    },
    {
      "cell_type": "code",
      "metadata": {
        "id": "gsSiWEJY1BPB"
      },
      "source": [
        "test_image = image.load_img('/content/COVID19(463).jpg', target_size = (224, 224))\n",
        "test_image = image.img_to_array(test_image)\n",
        "test_image = np.expand_dims(test_image, axis = 0)\n",
        "# predicted_classes= np.argmax(model.predict(test_image), axis=1)\n",
        "\n",
        "result = model.predict(test_image)\n",
        "training_set.class_indices\n",
        "if result[0][0] == 1:\n",
        "  prediction = 'COVID19'\n",
        "elif result[0][1] ==1:\n",
        "  prediction = 'NORMAL'\n",
        "elif result[0][2] ==1:\n",
        "  prediction = 'PNEUMONIA'"
      ],
      "execution_count": null,
      "outputs": []
    },
    {
      "cell_type": "code",
      "source": [
        "print(result)"
      ],
      "metadata": {
        "colab": {
          "base_uri": "https://localhost:8080/"
        },
        "id": "pQIcKMWI2Lqk",
        "outputId": "fe111877-3059-406b-c882-1e39ec802479"
      },
      "execution_count": null,
      "outputs": [
        {
          "output_type": "stream",
          "name": "stdout",
          "text": [
            "[[0. 1. 0.]]\n"
          ]
        }
      ]
    }
  ]
}
